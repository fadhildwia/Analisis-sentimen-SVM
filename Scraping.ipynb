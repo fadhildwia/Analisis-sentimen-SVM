{
 "cells": [
  {
   "cell_type": "code",
   "execution_count": null,
   "metadata": {},
   "outputs": [],
   "source": [
    "import tweepy\n",
    "import pandas as pd"
   ]
  },
  {
   "cell_type": "code",
   "execution_count": null,
   "metadata": {},
   "outputs": [],
   "source": [
    "# Key Token\n",
    "\n",
    "mykeys = open('../API_key/apikey.txt', 'r').read().splitlines()\n",
    "\n",
    "api_key = mykeys[0]\n",
    "api_key_secret = mykeys[1]\n",
    "access_token = mykeys[2]\n",
    "access_token_secret = mykeys[3]\n",
    "auth_hendler = tweepy.OAuthHandler(api_key, api_key_secret)\n",
    "auth_hendler.set_access_token(access_token, access_token_secret)"
   ]
  },
  {
   "cell_type": "code",
   "execution_count": null,
   "metadata": {},
   "outputs": [],
   "source": [
    "# Crawling data\n",
    "api = tweepy.API(auth_hendler)\n",
    "\n",
    "search_term = 'biznet'\n",
    "tweet_amount = 1000\n",
    "remove_rt = '-filter:retweets'\n",
    "# Between two dates (just 10 day)\n",
    "start_date = \"2020-12-31\"\n",
    "end_date = \"2020-11-30\"\n",
    "# Tweepy Cursor\n",
    "tweets = tweepy.Cursor(api.search, q=search_term + remove_rt, lang='id', since=start_date).items()\n",
    "# Pulling information from tweets iterable \n",
    "tweets_ = [[tweet.created_at,tweet.user.screen_name, tweet.user.location, tweet.text] for tweet in tweets]\n",
    "#Make DataFrame for tweets after crawling\n",
    "tweets_list = pd.DataFrame(data=tweets_, columns=['Date','Username','Location','Text'])\n",
    "# Creation of dataframe from tweets list\n",
    "tweets_df = pd.DataFrame(tweets_list)\n",
    "tweets_df"
   ]
  },
  {
   "cell_type": "code",
   "execution_count": null,
   "metadata": {},
   "outputs": [],
   "source": [
    "# Save data crawling to file .csv\n",
    "tweets_df.to_csv('../Dataset/data_mentah1.csv', index = False, header = True)"
   ]
  }
 ],
 "metadata": {
  "kernelspec": {
   "display_name": "Python 3",
   "language": "python",
   "name": "python3"
  },
  "language_info": {
   "codemirror_mode": {
    "name": "ipython",
    "version": 3
   },
   "file_extension": ".py",
   "mimetype": "text/x-python",
   "name": "python",
   "nbconvert_exporter": "python",
   "pygments_lexer": "ipython3",
   "version": "3.8.3"
  }
 },
 "nbformat": 4,
 "nbformat_minor": 4
}
