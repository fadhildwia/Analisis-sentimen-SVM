{
 "cells": [
  {
   "cell_type": "markdown",
   "metadata": {},
   "source": [
    "# melakukan Text Processing pada metode TF-IDF"
   ]
  },
  {
   "cell_type": "markdown",
   "metadata": {},
   "source": [
    "Disini saya menggunakan dataset hasil review salah satu tempat wisata di Dago Bandung - Jawa Barat"
   ]
  },
  {
   "cell_type": "code",
   "execution_count": 21,
   "metadata": {},
   "outputs": [
    {
     "data": {
      "text/html": [
       "<div>\n",
       "<style scoped>\n",
       "    .dataframe tbody tr th:only-of-type {\n",
       "        vertical-align: middle;\n",
       "    }\n",
       "\n",
       "    .dataframe tbody tr th {\n",
       "        vertical-align: top;\n",
       "    }\n",
       "\n",
       "    .dataframe thead th {\n",
       "        text-align: right;\n",
       "    }\n",
       "</style>\n",
       "<table border=\"1\" class=\"dataframe\">\n",
       "  <thead>\n",
       "    <tr style=\"text-align: right;\">\n",
       "      <th></th>\n",
       "      <th>Nama Tempat</th>\n",
       "      <th>Komentar</th>\n",
       "    </tr>\n",
       "  </thead>\n",
       "  <tbody>\n",
       "    <tr>\n",
       "      <th>0</th>\n",
       "      <td>Nama Tempat</td>\n",
       "      <td>Komentar</td>\n",
       "    </tr>\n",
       "    <tr>\n",
       "      <th>1</th>\n",
       "      <td>Punclut Dago</td>\n",
       "      <td>kemarin gue datang ke tempat makan baru yg ada...</td>\n",
       "    </tr>\n",
       "    <tr>\n",
       "      <th>2</th>\n",
       "      <td>Punclut Dago</td>\n",
       "      <td>tidak mau lagi deh ketempat itu, tempatnya ter...</td>\n",
       "    </tr>\n",
       "    <tr>\n",
       "      <th>3</th>\n",
       "      <td>Punclut Dago</td>\n",
       "      <td>kayak nya sih gue tidak akan mau balik lagi ke...</td>\n",
       "    </tr>\n",
       "    <tr>\n",
       "      <th>4</th>\n",
       "      <td>Punclut Dago</td>\n",
       "      <td>gila ya gue enggak ngrti, kenapa tempat nya di...</td>\n",
       "    </tr>\n",
       "    <tr>\n",
       "      <th>5</th>\n",
       "      <td>Punclut Dago</td>\n",
       "      <td>pelayanan di hotel tidak sebagus yang gue baya...</td>\n",
       "    </tr>\n",
       "    <tr>\n",
       "      <th>6</th>\n",
       "      <td>Punclut Dago</td>\n",
       "      <td>saya boking hotel lewat online sampai sekarang...</td>\n",
       "    </tr>\n",
       "    <tr>\n",
       "      <th>7</th>\n",
       "      <td>Punclut Dago</td>\n",
       "      <td>tempatnya mantabss buwat liat pemandangan sore</td>\n",
       "    </tr>\n",
       "  </tbody>\n",
       "</table>\n",
       "</div>"
      ],
      "text/plain": [
       "    Nama Tempat                                           Komentar\n",
       "0   Nama Tempat                                           Komentar\n",
       "1  Punclut Dago  kemarin gue datang ke tempat makan baru yg ada...\n",
       "2  Punclut Dago  tidak mau lagi deh ketempat itu, tempatnya ter...\n",
       "3  Punclut Dago  kayak nya sih gue tidak akan mau balik lagi ke...\n",
       "4  Punclut Dago  gila ya gue enggak ngrti, kenapa tempat nya di...\n",
       "5  Punclut Dago  pelayanan di hotel tidak sebagus yang gue baya...\n",
       "6  Punclut Dago  saya boking hotel lewat online sampai sekarang...\n",
       "7  Punclut Dago     tempatnya mantabss buwat liat pemandangan sore"
      ]
     },
     "execution_count": 21,
     "metadata": {},
     "output_type": "execute_result"
    }
   ],
   "source": [
    "#import library yang di butuhkan\n",
    "from openpyxl import load_workbook #library untuk menampilkan dokumen\n",
    "import pandas as pd #import pandas \n",
    "from nltk.tokenize import word_tokenize #import library nltk - tokenize\n",
    "from Sastrawi.Stemmer.StemmerFactory import StemmerFactory #import library sastrawi untuk\n",
    "import os\n",
    "from flask import Flask, render_template, request, make_response, session, redirect, url_for, flash, abort\n",
    "import csv\n",
    "import pandas\n",
    "from werkzeug.utils import secure_filename\n",
    "\n",
    "\n",
    "wr = load_workbook(filename = 'yukcoba.xlsx')\n",
    "sheet_range = wr['Sheet1']\n",
    "\n",
    "df = pd.DataFrame(sheet_range.values)\n",
    "df.columns = ['Nama Tempat','Komentar']\n",
    "df"
   ]
  },
  {
   "cell_type": "markdown",
   "metadata": {},
   "source": [
    "disini saya akan melakukan steamming pada bagian komentar pengunjung terhadap tempat wisata\n",
    "sehingga saya akan menampilkan data pada bagian kolom komentar nya saja"
   ]
  },
  {
   "cell_type": "code",
   "execution_count": 16,
   "metadata": {},
   "outputs": [
    {
     "ename": "AttributeError",
     "evalue": "'DataFrame' object has no attribute 'read'",
     "output_type": "error",
     "traceback": [
      "\u001b[1;31m---------------------------------------------------------------------------\u001b[0m",
      "\u001b[1;31mAttributeError\u001b[0m                            Traceback (most recent call last)",
      "\u001b[1;32m<ipython-input-16-f53a0b8c4a20>\u001b[0m in \u001b[0;36m<module>\u001b[1;34m\u001b[0m\n\u001b[1;32m----> 1\u001b[1;33m \u001b[0mdf\u001b[0m \u001b[1;33m=\u001b[0m \u001b[0mdf\u001b[0m\u001b[1;33m.\u001b[0m\u001b[0mread\u001b[0m\u001b[1;33m(\u001b[0m\u001b[1;33m)\u001b[0m\u001b[1;33m\u001b[0m\u001b[1;33m\u001b[0m\u001b[0m\n\u001b[0m\u001b[0;32m      2\u001b[0m \u001b[0mdf\u001b[0m\u001b[1;33m\u001b[0m\u001b[1;33m\u001b[0m\u001b[0m\n",
      "\u001b[1;32m~\\anaconda3\\lib\\site-packages\\pandas\\core\\generic.py\u001b[0m in \u001b[0;36m__getattr__\u001b[1;34m(self, name)\u001b[0m\n\u001b[0;32m   5272\u001b[0m             \u001b[1;32mif\u001b[0m \u001b[0mself\u001b[0m\u001b[1;33m.\u001b[0m\u001b[0m_info_axis\u001b[0m\u001b[1;33m.\u001b[0m\u001b[0m_can_hold_identifiers_and_holds_name\u001b[0m\u001b[1;33m(\u001b[0m\u001b[0mname\u001b[0m\u001b[1;33m)\u001b[0m\u001b[1;33m:\u001b[0m\u001b[1;33m\u001b[0m\u001b[1;33m\u001b[0m\u001b[0m\n\u001b[0;32m   5273\u001b[0m                 \u001b[1;32mreturn\u001b[0m \u001b[0mself\u001b[0m\u001b[1;33m[\u001b[0m\u001b[0mname\u001b[0m\u001b[1;33m]\u001b[0m\u001b[1;33m\u001b[0m\u001b[1;33m\u001b[0m\u001b[0m\n\u001b[1;32m-> 5274\u001b[1;33m             \u001b[1;32mreturn\u001b[0m \u001b[0mobject\u001b[0m\u001b[1;33m.\u001b[0m\u001b[0m__getattribute__\u001b[0m\u001b[1;33m(\u001b[0m\u001b[0mself\u001b[0m\u001b[1;33m,\u001b[0m \u001b[0mname\u001b[0m\u001b[1;33m)\u001b[0m\u001b[1;33m\u001b[0m\u001b[1;33m\u001b[0m\u001b[0m\n\u001b[0m\u001b[0;32m   5275\u001b[0m \u001b[1;33m\u001b[0m\u001b[0m\n\u001b[0;32m   5276\u001b[0m     \u001b[1;32mdef\u001b[0m \u001b[0m__setattr__\u001b[0m\u001b[1;33m(\u001b[0m\u001b[0mself\u001b[0m\u001b[1;33m,\u001b[0m \u001b[0mname\u001b[0m\u001b[1;33m:\u001b[0m \u001b[0mstr\u001b[0m\u001b[1;33m,\u001b[0m \u001b[0mvalue\u001b[0m\u001b[1;33m)\u001b[0m \u001b[1;33m->\u001b[0m \u001b[1;32mNone\u001b[0m\u001b[1;33m:\u001b[0m\u001b[1;33m\u001b[0m\u001b[1;33m\u001b[0m\u001b[0m\n",
      "\u001b[1;31mAttributeError\u001b[0m: 'DataFrame' object has no attribute 'read'"
     ]
    }
   ],
   "source": [
    "df = df.read()\n",
    "df"
   ]
  },
  {
   "cell_type": "code",
   "execution_count": 18,
   "metadata": {},
   "outputs": [
    {
     "name": "stdout",
     "output_type": "stream",
     "text": [
      "True\n",
      "Ayo belajar Python\n",
      "Belajar Python Sangat Mudah\n",
      "20\n",
      "3.14\n",
      "5j\n",
      "[1, 2, 3, 4, 5]\n",
      "['satu', 'dua', 'tiga']\n",
      "(1, 2, 3, 4, 5)\n",
      "('satu', 'dua', 'tiga')\n",
      "{'nama': 'Budi', 'umur': 20}\n",
      "{'nama': 'Andi', 'umur': 21}\n",
      "<class 'dict'>\n"
     ]
    }
   ],
   "source": [
    "#tipe data Boolean\n",
    "print(True)\n",
    "\n",
    "#tipe data String\n",
    "print(\"Ayo belajar Python\")\n",
    "print('Belajar Python Sangat Mudah')\n",
    "\n",
    "#tipe data Integer\n",
    "print(20)\n",
    "\n",
    "#tipe data Float\n",
    "print(3.14)\n",
    "\n",
    "#tipe data Hexadecimal\n",
    "#\n",
    "\n",
    "#tipe data Complex\n",
    "print(5j)\n",
    "\n",
    "#tipe data List\n",
    "print([1,2,3,4,5])\n",
    "print([\"satu\", \"dua\", \"tiga\"])\n",
    "\n",
    "#tipe data Tuple\n",
    "print((1,2,3,4,5))\n",
    "print((\"satu\", \"dua\", \"tiga\"))\n",
    "\n",
    "#tipe data Dictionary\n",
    "print({\"nama\":\"Budi\", 'umur':20})\n",
    "#tipe data Dictionary dimasukan ke dalam variabel biodata\n",
    "biodata = {\"nama\":\"Andi\", 'umur':21} #proses inisialisasi variabel biodata\n",
    "print(biodata) #proses pencetakan variabel biodata yang berisi tipe data Dictionary\n",
    "print(type(biodata)) #fungsi untuk mengecek jenis tipe data. akan tampil <class 'dict'> yang berarti dict adalah tipe data dictionary"
   ]
  },
  {
   "cell_type": "code",
   "execution_count": 20,
   "metadata": {},
   "outputs": [
    {
     "data": {
      "text/html": [
       "<div>\n",
       "<style scoped>\n",
       "    .dataframe tbody tr th:only-of-type {\n",
       "        vertical-align: middle;\n",
       "    }\n",
       "\n",
       "    .dataframe tbody tr th {\n",
       "        vertical-align: top;\n",
       "    }\n",
       "\n",
       "    .dataframe thead th {\n",
       "        text-align: right;\n",
       "    }\n",
       "</style>\n",
       "<table border=\"1\" class=\"dataframe\">\n",
       "  <thead>\n",
       "    <tr style=\"text-align: right;\">\n",
       "      <th></th>\n",
       "      <th>name</th>\n",
       "      <th>degree</th>\n",
       "      <th>score</th>\n",
       "    </tr>\n",
       "  </thead>\n",
       "  <tbody>\n",
       "    <tr>\n",
       "      <th>0</th>\n",
       "      <td>aparna</td>\n",
       "      <td>MBA</td>\n",
       "      <td>90</td>\n",
       "    </tr>\n",
       "    <tr>\n",
       "      <th>1</th>\n",
       "      <td>pankaj</td>\n",
       "      <td>BCA</td>\n",
       "      <td>40</td>\n",
       "    </tr>\n",
       "    <tr>\n",
       "      <th>2</th>\n",
       "      <td>sudhir</td>\n",
       "      <td>M.Tech</td>\n",
       "      <td>80</td>\n",
       "    </tr>\n",
       "    <tr>\n",
       "      <th>3</th>\n",
       "      <td>Geeku</td>\n",
       "      <td>MBA</td>\n",
       "      <td>98</td>\n",
       "    </tr>\n",
       "  </tbody>\n",
       "</table>\n",
       "</div>"
      ],
      "text/plain": [
       "     name  degree  score\n",
       "0  aparna     MBA     90\n",
       "1  pankaj     BCA     40\n",
       "2  sudhir  M.Tech     80\n",
       "3   Geeku     MBA     98"
      ]
     },
     "execution_count": 20,
     "metadata": {},
     "output_type": "execute_result"
    }
   ],
   "source": [
    "# importing pandas as pd \n",
    "import pandas as pd \n",
    "\n",
    "\t\n",
    "# list of name, degree, score \n",
    "nme = [\"aparna\", \"pankaj\", \"sudhir\", \"Geeku\"] \n",
    "deg = [\"MBA\", \"BCA\", \"M.Tech\", \"MBA\"] \n",
    "scr = [90, 40, 80, 98] \n",
    "\t\n",
    "# dictionary of lists \n",
    "dict = {'name': nme, 'degree': deg, 'score': scr} \n",
    "\t\n",
    "df = pd.DataFrame(dict) \n",
    "\t\n",
    "# saving the dataframe \n",
    "df.to_csv('GFG.csv') \n",
    "df"
   ]
  },
  {
   "cell_type": "code",
   "execution_count": 22,
   "metadata": {},
   "outputs": [
    {
     "data": {
      "text/html": [
       "<div>\n",
       "<style scoped>\n",
       "    .dataframe tbody tr th:only-of-type {\n",
       "        vertical-align: middle;\n",
       "    }\n",
       "\n",
       "    .dataframe tbody tr th {\n",
       "        vertical-align: top;\n",
       "    }\n",
       "\n",
       "    .dataframe thead th {\n",
       "        text-align: right;\n",
       "    }\n",
       "</style>\n",
       "<table border=\"1\" class=\"dataframe\">\n",
       "  <thead>\n",
       "    <tr style=\"text-align: right;\">\n",
       "      <th></th>\n",
       "      <th>Komentar</th>\n",
       "    </tr>\n",
       "  </thead>\n",
       "  <tbody>\n",
       "    <tr>\n",
       "      <th>0</th>\n",
       "      <td>Komentar</td>\n",
       "    </tr>\n",
       "    <tr>\n",
       "      <th>1</th>\n",
       "      <td>kemarin gue datang ke tempat makan baru yg ada...</td>\n",
       "    </tr>\n",
       "    <tr>\n",
       "      <th>2</th>\n",
       "      <td>tidak mau lagi deh ketempat itu, tempatnya ter...</td>\n",
       "    </tr>\n",
       "    <tr>\n",
       "      <th>3</th>\n",
       "      <td>kayak nya sih gue tidak akan mau balik lagi ke...</td>\n",
       "    </tr>\n",
       "    <tr>\n",
       "      <th>4</th>\n",
       "      <td>gila ya gue enggak ngrti, kenapa tempat nya di...</td>\n",
       "    </tr>\n",
       "    <tr>\n",
       "      <th>5</th>\n",
       "      <td>pelayanan di hotel tidak sebagus yang gue baya...</td>\n",
       "    </tr>\n",
       "    <tr>\n",
       "      <th>6</th>\n",
       "      <td>saya boking hotel lewat online sampai sekarang...</td>\n",
       "    </tr>\n",
       "    <tr>\n",
       "      <th>7</th>\n",
       "      <td>tempatnya mantabss buwat liat pemandangan sore</td>\n",
       "    </tr>\n",
       "  </tbody>\n",
       "</table>\n",
       "</div>"
      ],
      "text/plain": [
       "                                            Komentar\n",
       "0                                           Komentar\n",
       "1  kemarin gue datang ke tempat makan baru yg ada...\n",
       "2  tidak mau lagi deh ketempat itu, tempatnya ter...\n",
       "3  kayak nya sih gue tidak akan mau balik lagi ke...\n",
       "4  gila ya gue enggak ngrti, kenapa tempat nya di...\n",
       "5  pelayanan di hotel tidak sebagus yang gue baya...\n",
       "6  saya boking hotel lewat online sampai sekarang...\n",
       "7     tempatnya mantabss buwat liat pemandangan sore"
      ]
     },
     "execution_count": 22,
     "metadata": {},
     "output_type": "execute_result"
    }
   ],
   "source": [
    "#langkah pertama dengan membuka datasets bagian Komentar nya saja\n",
    "df[['Komentar']] #memanggil / tampil tabel komentar"
   ]
  },
  {
   "cell_type": "markdown",
   "metadata": {},
   "source": [
    "# Slankword "
   ]
  },
  {
   "cell_type": "code",
   "execution_count": 24,
   "metadata": {},
   "outputs": [
    {
     "data": {
      "text/plain": [
       "['Komentar',\n",
       " 'kemarin gue datang ke tempat makan baru yg ada di dago atas . gue kira makanan nya enak karena harga nya mahal, ternyata boro boro',\n",
       " 'tidak mau lagi deh ketempat itu, tempatnya terlalu sempit',\n",
       " 'kayak nya sih gue tidak akan mau balik lagi ke tempat itu .',\n",
       " 'gila ya gue enggak ngrti, kenapa tempat nya dibiarkan panas',\n",
       " 'pelayanan di hotel tidak sebagus yang gue bayangkan. . .  ',\n",
       " 'saya boking hotel lewat online sampai sekarang tidak ada konformasi nya .',\n",
       " 'tempatnya mantabss buwat liat pemandangan sore']"
      ]
     },
     "execution_count": 24,
     "metadata": {},
     "output_type": "execute_result"
    }
   ],
   "source": [
    "komentar = [] #deklarasi variabel komentar pada list\n",
    "komentar = df['Komentar'].values.tolist() #masukan data kedalam list\n",
    "komentar #cetak data dalam list"
   ]
  },
  {
   "cell_type": "code",
   "execution_count": 4,
   "metadata": {},
   "outputs": [],
   "source": [
    "# membuat data slankword mengubah kata menjadi lebih baik \n",
    "slankword = { \n",
    "    \"gue\" : \"saya\",\n",
    "    \"boking\" : \"memesan\",\n",
    "    \"konformasi\" : \"konfirmasi\",\n",
    "    \"yg\" : \"yang\",\n",
    "    \"ngrti\" : \"mengerti\",\n",
    "    \"kayak\" : \"sepertinya\",\n",
    "    \"buwat\" : \"buat\",\n",
    "    \"liat\" : \"lihat\"\n",
    "}"
   ]
  },
  {
   "cell_type": "code",
   "execution_count": 6,
   "metadata": {},
   "outputs": [
    {
     "name": "stderr",
     "output_type": "stream",
     "text": [
      "[nltk_data] Downloading package punkt to C:\\Users\\Microsoft\n",
      "[nltk_data]     User\\AppData\\Roaming\\nltk_data...\n",
      "[nltk_data]   Unzipping tokenizers\\punkt.zip.\n"
     ]
    },
    {
     "data": {
      "text/plain": [
       "True"
      ]
     },
     "execution_count": 6,
     "metadata": {},
     "output_type": "execute_result"
    }
   ],
   "source": [
    "import nltk\n",
    "nltk.download('punkt')"
   ]
  },
  {
   "cell_type": "markdown",
   "metadata": {},
   "source": [
    "hasil dari proses slankword"
   ]
  },
  {
   "cell_type": "code",
   "execution_count": 5,
   "metadata": {},
   "outputs": [
    {
     "data": {
      "text/plain": [
       "['Komentar',\n",
       " 'kemarin saya datang ke tempat makan baru yang ada di dago atas . saya kira makanan nya enak karena harga nya mahal, ternyata boro boro',\n",
       " 'tidak mau lagi deh ketempat itu, tempatnya terlalu sempit',\n",
       " 'sepertinya nya sih saya tidak akan mau balik lagi ke tempat itu .',\n",
       " 'gila ya saya enggak mengerti, kenapa tempat nya dibiarkan panas',\n",
       " 'pelayanan di hotel tidak sebagus yang saya bayangkan. . .  ',\n",
       " 'saya memesan hotel lewat online sampai sekarang tidak ada konfirmasi nya .',\n",
       " 'tempatnya mantabss buat lihat pemandangan sore']"
      ]
     },
     "execution_count": 5,
     "metadata": {},
     "output_type": "execute_result"
    }
   ],
   "source": [
    "for index, text in enumerate(komentar):\n",
    "    text = text.lower()\n",
    "    splitlines = word_tokenize(text)\n",
    "    for word in splitlines:\n",
    "        if word in slankword:\n",
    "            text = text.replace(word, str(slankword[word]));\n",
    "            komentar[index] = text\n",
    "komentar"
   ]
  },
  {
   "cell_type": "markdown",
   "metadata": {},
   "source": [
    "# menampilkan data yang telah di slank"
   ]
  },
  {
   "cell_type": "code",
   "execution_count": 8,
   "metadata": {},
   "outputs": [
    {
     "name": "stdout",
     "output_type": "stream",
     "text": [
      "['Komentar', 'kemarin saya datang ke tempat makan baru yang ada di dago atas . saya kira makanan nya enak karena harga nya mahal, ternyata boro boro', 'tidak mau lagi deh ketempat itu, tempatnya terlalu sempit', 'sepertinya nya sih saya tidak akan mau balik lagi ke tempat itu .', 'gila ya saya enggak mengerti, kenapa tempat nya dibiarkan panas', 'pelayanan di hotel tidak sebagus yang saya bayangkan. . .  ', 'saya memesan hotel lewat online sampai sekarang tidak ada konfirmasi nya .', 'tempatnya mantabss buat lihat pemandangan sore']\n"
     ]
    }
   ],
   "source": [
    "def slank(texts): #slank menggunakan fungsi\n",
    "    text_list = []\n",
    "    for index, text in enumerate(texts): # lower text\n",
    "        text = text.lower()\n",
    "        splitlines = word_tokenize(text)\n",
    "        for word in splitlines: #splitlines\n",
    "            if word in slankword:\n",
    "                text = text.replace(word, str(slankword[word]))\n",
    "                text[index] = text\n",
    "    return texts\n",
    "print(slank(komentar))"
   ]
  },
  {
   "cell_type": "code",
   "execution_count": 26,
   "metadata": {},
   "outputs": [
    {
     "ename": "SyntaxError",
     "evalue": "Missing parentheses in call to 'print'. Did you mean print(\"You are carrying:\")? (<ipython-input-26-68fecb07fc1c>, line 6)",
     "output_type": "error",
     "traceback": [
      "\u001b[1;36m  File \u001b[1;32m\"<ipython-input-26-68fecb07fc1c>\"\u001b[1;36m, line \u001b[1;32m6\u001b[0m\n\u001b[1;33m    print \"You are carrying:\"\u001b[0m\n\u001b[1;37m          ^\u001b[0m\n\u001b[1;31mSyntaxError\u001b[0m\u001b[1;31m:\u001b[0m Missing parentheses in call to 'print'. Did you mean print(\"You are carrying:\")?\n"
     ]
    }
   ],
   "source": [
    "def start(my_list=[]):  \n",
    "    inventory = my_list\n",
    "    return inventory\n",
    "\n",
    "def inventory(arg): \n",
    "    print \"You are carrying:\"\n",
    "    for item in arg:\n",
    "        print '%s' % item \n",
    "    \n",
    "def main():\n",
    "    inv_item = start(['gold','food','hammer'])\n",
    "    inventory(inv_item)\n",
    "\n",
    "print(start(my_list=[]))"
   ]
  },
  {
   "cell_type": "markdown",
   "metadata": {},
   "source": [
    "# Text Processing"
   ]
  },
  {
   "cell_type": "markdown",
   "metadata": {},
   "source": [
    "Tokenize"
   ]
  },
  {
   "cell_type": "code",
   "execution_count": 9,
   "metadata": {},
   "outputs": [
    {
     "name": "stdout",
     "output_type": "stream",
     "text": [
      "[['Komentar', 'kemarin gue datang ke tempat makan baru yg ada di dago atas . gue kira makanan nya enak karena harga nya mahal, ternyata boro boro', 'tidak mau lagi deh ketempat itu, tempatnya terlalu sempit', 'kayak nya sih gue tidak akan mau balik lagi ke tempat itu .', 'gila ya gue enggak ngrti, kenapa tempat nya dibiarkan panas', 'pelayanan di hotel tidak sebagus yang gue bayangkan. . .  ', 'saya boking hotel lewat online sampai sekarang tidak ada konformasi nya .', 'tempatnya mantabss buwat liat pemandangan sore']]\n"
     ]
    }
   ],
   "source": [
    "list_review=[]\n",
    "list_review.append(df['Komentar'])\n",
    "\n",
    "print (list_review)"
   ]
  },
  {
   "cell_type": "code",
   "execution_count": 7,
   "metadata": {},
   "outputs": [
    {
     "name": "stdout",
     "output_type": "stream",
     "text": [
      "{'d': 'a'}\n",
      "{'d': 't'}\n",
      "{'d': 'a'}\n",
      "{'d': '.'}\n",
      "{'d': 'c'}\n",
      "{'d': 's'}\n",
      "{'d': 'v'}\n"
     ]
    }
   ],
   "source": [
    "import csv\n",
    "reader = csv.DictReader('data.csv')\n",
    "for row in reader:\n",
    "    print(row)"
   ]
  },
  {
   "cell_type": "code",
   "execution_count": null,
   "metadata": {},
   "outputs": [],
   "source": [
    "import nltk \n",
    "nltk.download('punkt')"
   ]
  },
  {
   "cell_type": "code",
   "execution_count": 14,
   "metadata": {},
   "outputs": [
    {
     "ename": "RuntimeError",
     "evalue": "Working outside of request context.\n\nThis typically means that you attempted to use functionality that needed\nan active HTTP request.  Consult the documentation on testing for\ninformation about how to avoid this problem.",
     "output_type": "error",
     "traceback": [
      "\u001b[1;31m---------------------------------------------------------------------------\u001b[0m",
      "\u001b[1;31mRuntimeError\u001b[0m                              Traceback (most recent call last)",
      "\u001b[1;32m<ipython-input-14-35500e9c2bc1>\u001b[0m in \u001b[0;36m<module>\u001b[1;34m\u001b[0m\n\u001b[1;32m----> 1\u001b[1;33m \u001b[0muser_csv\u001b[0m \u001b[1;33m=\u001b[0m \u001b[0mrequest\u001b[0m\u001b[1;33m.\u001b[0m\u001b[0mform\u001b[0m\u001b[1;33m.\u001b[0m\u001b[0mget\u001b[0m\u001b[1;33m(\u001b[0m\u001b[0mdf\u001b[0m\u001b[1;33m)\u001b[0m\u001b[1;33m.\u001b[0m\u001b[0msplit\u001b[0m\u001b[1;33m(\u001b[0m\u001b[1;34m'\\n'\u001b[0m\u001b[1;33m)\u001b[0m\u001b[1;33m\u001b[0m\u001b[1;33m\u001b[0m\u001b[0m\n\u001b[0m",
      "\u001b[1;32m~\\anaconda3\\lib\\site-packages\\werkzeug\\local.py\u001b[0m in \u001b[0;36m__getattr__\u001b[1;34m(self, name)\u001b[0m\n\u001b[0;32m    345\u001b[0m         \u001b[1;32mif\u001b[0m \u001b[0mname\u001b[0m \u001b[1;33m==\u001b[0m \u001b[1;34m\"__members__\"\u001b[0m\u001b[1;33m:\u001b[0m\u001b[1;33m\u001b[0m\u001b[1;33m\u001b[0m\u001b[0m\n\u001b[0;32m    346\u001b[0m             \u001b[1;32mreturn\u001b[0m \u001b[0mdir\u001b[0m\u001b[1;33m(\u001b[0m\u001b[0mself\u001b[0m\u001b[1;33m.\u001b[0m\u001b[0m_get_current_object\u001b[0m\u001b[1;33m(\u001b[0m\u001b[1;33m)\u001b[0m\u001b[1;33m)\u001b[0m\u001b[1;33m\u001b[0m\u001b[1;33m\u001b[0m\u001b[0m\n\u001b[1;32m--> 347\u001b[1;33m         \u001b[1;32mreturn\u001b[0m \u001b[0mgetattr\u001b[0m\u001b[1;33m(\u001b[0m\u001b[0mself\u001b[0m\u001b[1;33m.\u001b[0m\u001b[0m_get_current_object\u001b[0m\u001b[1;33m(\u001b[0m\u001b[1;33m)\u001b[0m\u001b[1;33m,\u001b[0m \u001b[0mname\u001b[0m\u001b[1;33m)\u001b[0m\u001b[1;33m\u001b[0m\u001b[1;33m\u001b[0m\u001b[0m\n\u001b[0m\u001b[0;32m    348\u001b[0m \u001b[1;33m\u001b[0m\u001b[0m\n\u001b[0;32m    349\u001b[0m     \u001b[1;32mdef\u001b[0m \u001b[0m__setitem__\u001b[0m\u001b[1;33m(\u001b[0m\u001b[0mself\u001b[0m\u001b[1;33m,\u001b[0m \u001b[0mkey\u001b[0m\u001b[1;33m,\u001b[0m \u001b[0mvalue\u001b[0m\u001b[1;33m)\u001b[0m\u001b[1;33m:\u001b[0m\u001b[1;33m\u001b[0m\u001b[1;33m\u001b[0m\u001b[0m\n",
      "\u001b[1;32m~\\anaconda3\\lib\\site-packages\\werkzeug\\local.py\u001b[0m in \u001b[0;36m_get_current_object\u001b[1;34m(self)\u001b[0m\n\u001b[0;32m    304\u001b[0m         \"\"\"\n\u001b[0;32m    305\u001b[0m         \u001b[1;32mif\u001b[0m \u001b[1;32mnot\u001b[0m \u001b[0mhasattr\u001b[0m\u001b[1;33m(\u001b[0m\u001b[0mself\u001b[0m\u001b[1;33m.\u001b[0m\u001b[0m__local\u001b[0m\u001b[1;33m,\u001b[0m \u001b[1;34m\"__release_local__\"\u001b[0m\u001b[1;33m)\u001b[0m\u001b[1;33m:\u001b[0m\u001b[1;33m\u001b[0m\u001b[1;33m\u001b[0m\u001b[0m\n\u001b[1;32m--> 306\u001b[1;33m             \u001b[1;32mreturn\u001b[0m \u001b[0mself\u001b[0m\u001b[1;33m.\u001b[0m\u001b[0m__local\u001b[0m\u001b[1;33m(\u001b[0m\u001b[1;33m)\u001b[0m\u001b[1;33m\u001b[0m\u001b[1;33m\u001b[0m\u001b[0m\n\u001b[0m\u001b[0;32m    307\u001b[0m         \u001b[1;32mtry\u001b[0m\u001b[1;33m:\u001b[0m\u001b[1;33m\u001b[0m\u001b[1;33m\u001b[0m\u001b[0m\n\u001b[0;32m    308\u001b[0m             \u001b[1;32mreturn\u001b[0m \u001b[0mgetattr\u001b[0m\u001b[1;33m(\u001b[0m\u001b[0mself\u001b[0m\u001b[1;33m.\u001b[0m\u001b[0m__local\u001b[0m\u001b[1;33m,\u001b[0m \u001b[0mself\u001b[0m\u001b[1;33m.\u001b[0m\u001b[0m__name__\u001b[0m\u001b[1;33m)\u001b[0m\u001b[1;33m\u001b[0m\u001b[1;33m\u001b[0m\u001b[0m\n",
      "\u001b[1;32m~\\anaconda3\\lib\\site-packages\\flask\\globals.py\u001b[0m in \u001b[0;36m_lookup_req_object\u001b[1;34m(name)\u001b[0m\n\u001b[0;32m     36\u001b[0m     \u001b[0mtop\u001b[0m \u001b[1;33m=\u001b[0m \u001b[0m_request_ctx_stack\u001b[0m\u001b[1;33m.\u001b[0m\u001b[0mtop\u001b[0m\u001b[1;33m\u001b[0m\u001b[1;33m\u001b[0m\u001b[0m\n\u001b[0;32m     37\u001b[0m     \u001b[1;32mif\u001b[0m \u001b[0mtop\u001b[0m \u001b[1;32mis\u001b[0m \u001b[1;32mNone\u001b[0m\u001b[1;33m:\u001b[0m\u001b[1;33m\u001b[0m\u001b[1;33m\u001b[0m\u001b[0m\n\u001b[1;32m---> 38\u001b[1;33m         \u001b[1;32mraise\u001b[0m \u001b[0mRuntimeError\u001b[0m\u001b[1;33m(\u001b[0m\u001b[0m_request_ctx_err_msg\u001b[0m\u001b[1;33m)\u001b[0m\u001b[1;33m\u001b[0m\u001b[1;33m\u001b[0m\u001b[0m\n\u001b[0m\u001b[0;32m     39\u001b[0m     \u001b[1;32mreturn\u001b[0m \u001b[0mgetattr\u001b[0m\u001b[1;33m(\u001b[0m\u001b[0mtop\u001b[0m\u001b[1;33m,\u001b[0m \u001b[0mname\u001b[0m\u001b[1;33m)\u001b[0m\u001b[1;33m\u001b[0m\u001b[1;33m\u001b[0m\u001b[0m\n\u001b[0;32m     40\u001b[0m \u001b[1;33m\u001b[0m\u001b[0m\n",
      "\u001b[1;31mRuntimeError\u001b[0m: Working outside of request context.\n\nThis typically means that you attempted to use functionality that needed\nan active HTTP request.  Consult the documentation on testing for\ninformation about how to avoid this problem."
     ]
    }
   ],
   "source": [
    "\n",
    "user_csv = request.form.get(df).split('\\n')\n"
   ]
  },
  {
   "cell_type": "code",
   "execution_count": 11,
   "metadata": {},
   "outputs": [
    {
     "name": "stdout",
     "output_type": "stream",
     "text": [
      "komentar\n",
      "kemarin\n",
      "gue\n",
      "datang\n",
      "ke\n",
      "tempat\n",
      "makan\n",
      "baru\n",
      "yg\n",
      "ada\n",
      "di\n",
      "dago\n",
      "atas\n",
      ".\n",
      "gue\n",
      "kira\n",
      "makanan\n",
      "nya\n",
      "enak\n",
      "karena\n",
      "harga\n",
      "nya\n",
      "mahal\n",
      ",\n",
      "ternyata\n",
      "boro\n",
      "boro\n",
      "tidak\n",
      "mau\n",
      "lagi\n",
      "deh\n",
      "ketempat\n",
      "itu\n",
      ",\n",
      "tempatnya\n",
      "terlalu\n",
      "sempit\n",
      "kayak\n",
      "nya\n",
      "sih\n",
      "gue\n",
      "tidak\n",
      "akan\n",
      "mau\n",
      "balik\n",
      "lagi\n",
      "ke\n",
      "tempat\n",
      "itu\n",
      ".\n",
      "gila\n",
      "ya\n",
      "gue\n",
      "enggak\n",
      "ngrti\n",
      ",\n",
      "kenapa\n",
      "tempat\n",
      "nya\n",
      "dibiarkan\n",
      "panas\n",
      "pelayanan\n",
      "di\n",
      "hotel\n",
      "tidak\n",
      "sebagus\n",
      "yang\n",
      "gue\n",
      "bayangkan\n",
      ".\n",
      ".\n",
      ".\n",
      "saya\n",
      "boking\n",
      "hotel\n",
      "lewat\n",
      "online\n",
      "sampai\n",
      "sekarang\n",
      "tidak\n",
      "ada\n",
      "konformasi\n",
      "nya\n",
      ".\n",
      "tempatnya\n",
      "mantabss\n",
      "buwat\n",
      "liat\n",
      "pemandangan\n",
      "sore\n"
     ]
    }
   ],
   "source": [
    "#TOKENIZE berdasarkan kata\n",
    "\n",
    "#import nltk nltk.download('punkt') #download library untuk tokenize\n",
    "from nltk.tokenize import word_tokenize #library memanggil fungsi tokenisasi\n",
    "\n",
    "for i in list_review: #mengambil librari yang sebelumnya\n",
    "    for j in i:\n",
    "        df_token = word_tokenize(j)\n",
    "        for k in df_token:\n",
    "            kecil = k.lower()  #memanggil fugsi lower\n",
    "            print(kecil) #hasil dari data yang telah di lower kan / di kecilkan"
   ]
  },
  {
   "cell_type": "code",
   "execution_count": 12,
   "metadata": {},
   "outputs": [
    {
     "name": "stdout",
     "output_type": "stream",
     "text": [
      "[['komentar'], ['kemarin', 'saya', 'datang', 'ke', 'tempat', 'makan', 'baru', 'yang', 'ada', 'di', 'dago', 'atas', '.', 'saya', 'kira', 'makanan', 'nya', 'enak', 'karena', 'harga', 'nya', 'mahal', ',', 'ternyata', 'boro', 'boro'], ['tidak', 'mau', 'lagi', 'deh', 'ketempat', 'itu', ',', 'tempatnya', 'terlalu', 'sempit'], ['sepertinya', 'nya', 'sih', 'saya', 'tidak', 'akan', 'mau', 'balik', 'lagi', 'ke', 'tempat', 'itu', '.'], ['gila', 'ya', 'saya', 'enggak', 'mengerti', ',', 'kenapa', 'tempat', 'nya', 'dibiarkan', 'panas'], ['pelayanan', 'di', 'hotel', 'tidak', 'sebagus', 'yang', 'saya', 'bayangkan', '.', '.', '.'], ['saya', 'memesan', 'hotel', 'lewat', 'online', 'sampai', 'sekarang', 'tidak', 'ada', 'konfirmasi', 'nya', '.'], ['tempatnya', 'mantabss', 'buat', 'lihat', 'pemandangan', 'sore']]\n"
     ]
    }
   ],
   "source": [
    "tokenisasi_komentar = [] #melakukan tokenisasi berdasarkan kalimat\n",
    "for y in komentar:\n",
    "    lowerkomentar = y.lower()\n",
    "    proses_tokenisasi = word_tokenize(lowerkomentar)\n",
    "    tokenisasi_komentar.append(proses_tokenisasi)\n",
    "    \n",
    "print(tokenisasi_komentar)"
   ]
  },
  {
   "cell_type": "markdown",
   "metadata": {},
   "source": [
    "# Filtering "
   ]
  },
  {
   "cell_type": "code",
   "execution_count": 13,
   "metadata": {},
   "outputs": [],
   "source": [
    "stopword = ('mantabss','.',',') #stopword char yang mau di buang"
   ]
  },
  {
   "cell_type": "code",
   "execution_count": 14,
   "metadata": {},
   "outputs": [
    {
     "name": "stdout",
     "output_type": "stream",
     "text": [
      "['komentar', 'kemarin', 'saya', 'datang', 'ke', 'tempat', 'makan', 'baru', 'yang', 'ada', 'di', 'dago', 'atas', 'saya', 'kira', 'makanan', 'nya', 'enak', 'karena', 'harga', 'nya', 'mahal', 'ternyata', 'boro', 'boro', 'tidak', 'mau', 'lagi', 'deh', 'ketempat', 'itu', 'tempatnya', 'terlalu', 'sempit', 'sepertinya', 'nya', 'sih', 'saya', 'tidak', 'akan', 'mau', 'balik', 'lagi', 'ke', 'tempat', 'itu', 'gila', 'ya', 'saya', 'enggak', 'mengerti', 'kenapa', 'tempat', 'nya', 'dibiarkan', 'panas', 'pelayanan', 'di', 'hotel', 'tidak', 'sebagus', 'yang', 'saya', 'bayangkan', 'saya', 'memesan', 'hotel', 'lewat', 'online', 'sampai', 'sekarang', 'tidak', 'ada', 'konfirmasi', 'nya', 'tempatnya', 'buat', 'lihat', 'pemandangan', 'sore']\n"
     ]
    }
   ],
   "source": [
    "filtering = [] #deklarasi variabel proses filtering\n",
    "for a in tokenisasi_komentar: #perulangan untuk melakukan tokenisasi\n",
    "    for b in a:\n",
    "        if b not in stopword:\n",
    "            filtering.append(b)\n",
    "print(filtering) #mencetak hasil filtering"
   ]
  },
  {
   "cell_type": "markdown",
   "metadata": {},
   "source": [
    "# Proses Steamming per kata "
   ]
  },
  {
   "cell_type": "code",
   "execution_count": 15,
   "metadata": {},
   "outputs": [
    {
     "name": "stdout",
     "output_type": "stream",
     "text": [
      "komentar  :  komentar\n",
      "kemarin  :  kemarin\n",
      "saya  :  saya\n",
      "datang  :  datang\n",
      "ke  :  ke\n",
      "tempat  :  tempat\n",
      "makan  :  makan\n",
      "baru  :  baru\n",
      "yang  :  yang\n",
      "ada  :  ada\n",
      "di  :  di\n",
      "dago  :  dago\n",
      "atas  :  atas\n",
      "saya  :  saya\n",
      "kira  :  kira\n",
      "makanan  :  makan\n",
      "nya  :  nya\n",
      "enak  :  enak\n",
      "karena  :  karena\n",
      "harga  :  harga\n",
      "nya  :  nya\n",
      "mahal  :  mahal\n",
      "ternyata  :  nyata\n",
      "boro  :  boro\n",
      "boro  :  boro\n",
      "tidak  :  tidak\n",
      "mau  :  mau\n",
      "lagi  :  lagi\n",
      "deh  :  deh\n",
      "ketempat  :  tempat\n",
      "itu  :  itu\n",
      "tempatnya  :  tempat\n",
      "terlalu  :  terlalu\n",
      "sempit  :  sempit\n",
      "sepertinya  :  seperti\n",
      "nya  :  nya\n",
      "sih  :  sih\n",
      "saya  :  saya\n",
      "tidak  :  tidak\n",
      "akan  :  akan\n",
      "mau  :  mau\n",
      "balik  :  balik\n",
      "lagi  :  lagi\n",
      "ke  :  ke\n",
      "tempat  :  tempat\n",
      "itu  :  itu\n",
      "gila  :  gila\n",
      "ya  :  ya\n",
      "saya  :  saya\n",
      "enggak  :  enggak\n",
      "mengerti  :  erti\n",
      "kenapa  :  kenapa\n",
      "tempat  :  tempat\n",
      "nya  :  nya\n",
      "dibiarkan  :  biar\n",
      "panas  :  panas\n",
      "pelayanan  :  layan\n",
      "di  :  di\n",
      "hotel  :  hotel\n",
      "tidak  :  tidak\n",
      "sebagus  :  bagus\n",
      "yang  :  yang\n",
      "saya  :  saya\n",
      "bayangkan  :  bayang\n",
      "saya  :  saya\n",
      "memesan  :  mes\n",
      "hotel  :  hotel\n",
      "lewat  :  lewat\n",
      "online  :  online\n",
      "sampai  :  sampai\n",
      "sekarang  :  sekarang\n",
      "tidak  :  tidak\n",
      "ada  :  ada\n",
      "konfirmasi  :  konfirmasi\n",
      "nya  :  nya\n",
      "tempatnya  :  tempat\n",
      "buat  :  buat\n",
      "lihat  :  lihat\n",
      "pemandangan  :  pandang\n",
      "sore  :  sore\n"
     ]
    }
   ],
   "source": [
    "factory = StemmerFactory()\n",
    "stemmer = factory.create_stemmer()\n",
    "\n",
    "for x in filtering:\n",
    "    print (x, \" : \",stemmer.stem(x))\n",
    "    "
   ]
  },
  {
   "cell_type": "markdown",
   "metadata": {},
   "source": [
    "# Menghitung kata dengan TF-IDF"
   ]
  },
  {
   "cell_type": "code",
   "execution_count": 16,
   "metadata": {},
   "outputs": [],
   "source": [
    "from sklearn.feature_extraction.text import CountVectorizer, TfidfTransformer"
   ]
  },
  {
   "cell_type": "code",
   "execution_count": 17,
   "metadata": {},
   "outputs": [
    {
     "name": "stdout",
     "output_type": "stream",
     "text": [
      "57\n"
     ]
    }
   ],
   "source": [
    "#untuk menghitung jumlah kata yang telah di steming\n",
    "cv = CountVectorizer()\n",
    "term_fit = cv.fit(komentar)\n",
    "\n",
    "print (len(term_fit.vocabulary_))"
   ]
  },
  {
   "cell_type": "code",
   "execution_count": 18,
   "metadata": {},
   "outputs": [
    {
     "name": "stdout",
     "output_type": "stream",
     "text": [
      "{'komentar': 25, 'kemarin': 21, 'saya': 43, 'datang': 9, 'ke': 20, 'tempat': 50, 'makan': 31, 'baru': 4, 'yang': 56, 'ada': 0, 'di': 11, 'dago': 8, 'atas': 2, 'kira': 24, 'makanan': 32, 'nya': 37, 'enak': 13, 'karena': 19, 'harga': 16, 'mahal': 30, 'ternyata': 53, 'boro': 6, 'tidak': 54, 'mau': 34, 'lagi': 27, 'deh': 10, 'ketempat': 23, 'itu': 18, 'tempatnya': 51, 'terlalu': 52, 'sempit': 46, 'sepertinya': 47, 'sih': 48, 'akan': 1, 'balik': 3, 'gila': 15, 'ya': 55, 'enggak': 14, 'mengerti': 36, 'kenapa': 22, 'dibiarkan': 12, 'panas': 39, 'pelayanan': 40, 'hotel': 17, 'sebagus': 44, 'bayangkan': 5, 'memesan': 35, 'lewat': 28, 'online': 38, 'sampai': 42, 'sekarang': 45, 'konfirmasi': 26, 'mantabss': 33, 'buat': 7, 'lihat': 29, 'pemandangan': 41, 'sore': 49}\n"
     ]
    }
   ],
   "source": [
    "print (term_fit.vocabulary_) #mengurutkan berdasarkan urutab abjad kata "
   ]
  },
  {
   "cell_type": "code",
   "execution_count": 19,
   "metadata": {},
   "outputs": [
    {
     "name": "stdout",
     "output_type": "stream",
     "text": [
      "['ada', 'akan', 'atas', 'balik', 'baru', 'bayangkan', 'boro', 'buat', 'dago', 'datang', 'deh', 'di', 'dibiarkan', 'enak', 'enggak', 'gila', 'harga', 'hotel', 'itu', 'karena', 'ke', 'kemarin', 'kenapa', 'ketempat', 'kira', 'komentar', 'konfirmasi', 'lagi', 'lewat', 'lihat', 'mahal', 'makan', 'makanan', 'mantabss', 'mau', 'memesan', 'mengerti', 'nya', 'online', 'panas', 'pelayanan', 'pemandangan', 'sampai', 'saya', 'sebagus', 'sekarang', 'sempit', 'sepertinya', 'sih', 'sore', 'tempat', 'tempatnya', 'terlalu', 'ternyata', 'tidak', 'ya', 'yang']\n"
     ]
    }
   ],
   "source": [
    "print (term_fit.get_feature_names()) #mengurutkan berdasarkan urutkan nama "
   ]
  },
  {
   "cell_type": "code",
   "execution_count": 28,
   "metadata": {},
   "outputs": [
    {
     "name": "stdout",
     "output_type": "stream",
     "text": [
      "  (0, 25)\t1\n",
      "  (1, 0)\t1\n",
      "  (1, 2)\t1\n",
      "  (1, 4)\t1\n",
      "  (1, 6)\t2\n",
      "  (1, 8)\t1\n",
      "  (1, 9)\t1\n",
      "  (1, 11)\t1\n",
      "  (1, 13)\t1\n",
      "  (1, 16)\t1\n",
      "  (1, 19)\t1\n",
      "  (1, 20)\t1\n",
      "  (1, 21)\t1\n",
      "  (1, 24)\t1\n",
      "  (1, 30)\t1\n",
      "  (1, 31)\t1\n",
      "  (1, 32)\t1\n",
      "  (1, 37)\t2\n",
      "  (1, 43)\t2\n",
      "  (1, 50)\t1\n",
      "  (1, 53)\t1\n",
      "  (1, 56)\t1\n",
      "  (2, 10)\t1\n",
      "  (2, 18)\t1\n",
      "  (2, 23)\t1\n",
      "  :\t:\n",
      "  (5, 5)\t1\n",
      "  (5, 11)\t1\n",
      "  (5, 17)\t1\n",
      "  (5, 40)\t1\n",
      "  (5, 43)\t1\n",
      "  (5, 44)\t1\n",
      "  (5, 54)\t1\n",
      "  (5, 56)\t1\n",
      "  (6, 0)\t1\n",
      "  (6, 17)\t1\n",
      "  (6, 26)\t1\n",
      "  (6, 28)\t1\n",
      "  (6, 35)\t1\n",
      "  (6, 37)\t1\n",
      "  (6, 38)\t1\n",
      "  (6, 42)\t1\n",
      "  (6, 43)\t1\n",
      "  (6, 45)\t1\n",
      "  (6, 54)\t1\n",
      "  (7, 7)\t1\n",
      "  (7, 29)\t1\n",
      "  (7, 33)\t1\n",
      "  (7, 41)\t1\n",
      "  (7, 49)\t1\n",
      "  (7, 51)\t1\n"
     ]
    }
   ],
   "source": [
    "#kolom pertama adalah urutan tweet dari 0 = pertama\n",
    "#kolom kedua adalah letak kata pada setiap kata yang ada di tweet\n",
    "#kolom ketiga hasil dari tf (total kata tersebut di setiap tweet)\n",
    "\n",
    "term_frequency_all = term_fit.transform(komentar)\n",
    "print (term_frequency_all)"
   ]
  },
  {
   "cell_type": "code",
   "execution_count": 20,
   "metadata": {},
   "outputs": [
    {
     "name": "stdout",
     "output_type": "stream",
     "text": [
      "kemarin saya datang ke tempat makan baru yang ada di dago atas . saya kira makanan nya enak karena harga nya mahal, ternyata boro boro\n"
     ]
    }
   ],
   "source": [
    "komen_tf = komentar[1] #memanggil kata pada index ke 1\n",
    "print (komen_tf)"
   ]
  },
  {
   "cell_type": "code",
   "execution_count": 21,
   "metadata": {},
   "outputs": [
    {
     "name": "stdout",
     "output_type": "stream",
     "text": [
      "  (0, 0)\t1\n",
      "  (0, 2)\t1\n",
      "  (0, 4)\t1\n",
      "  (0, 6)\t2\n",
      "  (0, 8)\t1\n",
      "  (0, 9)\t1\n",
      "  (0, 11)\t1\n",
      "  (0, 13)\t1\n",
      "  (0, 16)\t1\n",
      "  (0, 19)\t1\n",
      "  (0, 20)\t1\n",
      "  (0, 21)\t1\n",
      "  (0, 24)\t1\n",
      "  (0, 30)\t1\n",
      "  (0, 31)\t1\n",
      "  (0, 32)\t1\n",
      "  (0, 37)\t2\n",
      "  (0, 43)\t2\n",
      "  (0, 50)\t1\n",
      "  (0, 53)\t1\n",
      "  (0, 56)\t1\n"
     ]
    }
   ],
   "source": [
    "term_frequency = term_fit.transform([komen_tf]) #hanya menampilkan hasil document 1\n",
    "print (term_frequency)"
   ]
  },
  {
   "cell_type": "code",
   "execution_count": 22,
   "metadata": {},
   "outputs": [
    {
     "name": "stdout",
     "output_type": "stream",
     "text": [
      "[2.09861229 2.5040774  2.5040774  2.5040774  2.5040774  2.5040774\n",
      " 2.5040774  2.5040774  2.5040774  2.5040774  2.5040774  2.09861229\n",
      " 2.5040774  2.5040774  2.5040774  2.5040774  2.5040774  2.09861229\n",
      " 2.09861229 2.5040774  2.09861229 2.5040774  2.5040774  2.5040774\n",
      " 2.5040774  2.5040774  2.5040774  2.09861229 2.5040774  2.5040774\n",
      " 2.5040774  2.5040774  2.5040774  2.5040774  2.09861229 2.5040774\n",
      " 2.5040774  1.58778666 2.5040774  2.5040774  2.5040774  2.5040774\n",
      " 2.5040774  1.40546511 2.5040774  2.5040774  2.5040774  2.5040774\n",
      " 2.5040774  2.5040774  1.81093022 2.09861229 2.5040774  2.5040774\n",
      " 1.58778666 2.5040774  2.09861229]\n",
      "  (0, 56)\t0.1739933410600834\n",
      "  (0, 53)\t0.20760995010405361\n",
      "  (0, 50)\t0.15014197736643908\n",
      "  (0, 43)\t0.2330507366449377\n",
      "  (0, 37)\t0.2632828447719599\n",
      "  (0, 32)\t0.20760995010405361\n",
      "  (0, 31)\t0.20760995010405361\n",
      "  (0, 30)\t0.20760995010405361\n",
      "  (0, 24)\t0.20760995010405361\n",
      "  (0, 21)\t0.20760995010405361\n",
      "  (0, 20)\t0.1739933410600834\n",
      "  (0, 19)\t0.20760995010405361\n",
      "  (0, 16)\t0.20760995010405361\n",
      "  (0, 13)\t0.20760995010405361\n",
      "  (0, 11)\t0.1739933410600834\n",
      "  (0, 9)\t0.20760995010405361\n",
      "  (0, 8)\t0.20760995010405361\n",
      "  (0, 6)\t0.41521990020810723\n",
      "  (0, 4)\t0.20760995010405361\n",
      "  (0, 2)\t0.20760995010405361\n",
      "  (0, 0)\t0.1739933410600834\n"
     ]
    }
   ],
   "source": [
    "dokumen = term_fit.transform(komentar) #hasil perhitungan tf idf dalam 1 doc\n",
    "tfidf_transformer = TfidfTransformer().fit(dokumen)\n",
    "print (tfidf_transformer.idf_)\n",
    "\n",
    "tfidf=tfidf_transformer.transform(term_frequency)\n",
    "print (tfidf) #hasil manual dengan sistem pyhton"
   ]
  },
  {
   "cell_type": "code",
   "execution_count": null,
   "metadata": {},
   "outputs": [],
   "source": []
  }
 ],
 "metadata": {
  "kernelspec": {
   "display_name": "Python 3",
   "language": "python",
   "name": "python3"
  },
  "language_info": {
   "codemirror_mode": {
    "name": "ipython",
    "version": 3
   },
   "file_extension": ".py",
   "mimetype": "text/x-python",
   "name": "python",
   "nbconvert_exporter": "python",
   "pygments_lexer": "ipython3",
   "version": "3.8.3"
  }
 },
 "nbformat": 4,
 "nbformat_minor": 4
}
