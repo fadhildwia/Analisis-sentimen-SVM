{
 "cells": [
  {
   "cell_type": "code",
   "execution_count": null,
   "metadata": {},
   "outputs": [],
   "source": [
    "import tweepy\n",
    "import pandas as pd\n",
    "import numpy as np\n",
    "import re\n",
    "from nltk.corpus import stopwords\n",
    "from Sastrawi.Stemmer.StemmerFactory import StemmerFactory\n",
    "from wordcloud import WordCloud\n",
    "import matplotlib.pyplot as plt\n",
    "from sklearn.model_selection import train_test_split\n",
    "from sklearn.feature_extraction.text import TfidfVectorizer\n",
    "from sklearn.svm import SVC\n",
    "from sklearn.metrics import f1_score, recall_score, precision_score, confusion_matrix, accuracy_score\n",
    "from yellowbrick.text import TSNEVisualizer\n",
    "import os\n",
    "from sklearn.preprocessing import MinMaxScaler\n",
    "from sklearn.model_selection import validation_curve\n",
    "from sklearn.model_selection import learning_curve"
   ]
  },
  {
   "cell_type": "code",
   "execution_count": null,
   "metadata": {},
   "outputs": [],
   "source": [
    "# Key Token\n",
    "\n",
    "mykeys = open('/API_key/apikey.txt', 'r').read().splitlines()\n",
    "\n",
    "api_key = mykeys[0]\n",
    "api_key_secret = mykeys[1]\n",
    "access_token = mykeys[2]\n",
    "access_token_secret = mykeys[3]\n",
    "auth_hendler = tweepy.OAuthHandler(api_key, api_key_secret)\n",
    "auth_hendler.set_access_token(access_token, access_token_secret)"
   ]
  },
  {
   "cell_type": "code",
   "execution_count": null,
   "metadata": {},
   "outputs": [],
   "source": [
    "# Crawling data\n",
    "api = tweepy.API(auth_hendler)\n",
    "\n",
    "search_term = 'biznet'\n",
    "tweet_amount = 1000\n",
    "remove_rt = '-filter:retweets'\n",
    "# Between two dates (just 10 day)\n",
    "start_date = \"2020-12-31\"\n",
    "end_date = \"2020-11-30\"\n",
    "# Tweepy Cursor\n",
    "tweets = tweepy.Cursor(api.search, q=search_term + remove_rt, lang='id', since=start_date).items()\n",
    "# Pulling information from tweets iterable \n",
    "tweets_ = [[tweet.created_at,tweet.user.screen_name, tweet.user.location, tweet.text] for tweet in tweets]\n",
    "#Make DataFrame for tweets after crawling\n",
    "tweets_list = pd.DataFrame(data=tweets_, columns=['Date','Username','Location','Text'])\n",
    "# Creation of dataframe from tweets list\n",
    "tweets_df = pd.DataFrame(tweets_list)\n",
    "tweets_df"
   ]
  },
  {
   "cell_type": "code",
   "execution_count": null,
   "metadata": {},
   "outputs": [],
   "source": [
    "# Save data crawling to file .csv\n",
    "tweets_df.to_csv('/Dataset/data_mentah.csv', index = False, header = True)"
   ]
  },
  {
   "cell_type": "code",
   "execution_count": null,
   "metadata": {},
   "outputs": [],
   "source": [
    "# Open data file .csv\n",
    "tweets_df = pd.read_csv('/Dataset/data_labels_skenario3 - Copy.csv', encoding='latin-1')\n"
   ]
  },
  {
   "cell_type": "code",
   "execution_count": null,
   "metadata": {},
   "outputs": [],
   "source": [
    "tweets_df.drop(['Date','Username','Location'], axis=1, inplace=True)\n"
   ]
  },
  {
   "cell_type": "code",
   "execution_count": null,
   "metadata": {},
   "outputs": [],
   "source": [
    "def remove_punctuation(text):\n",
    "    # Happy Emoticons\n",
    "    emoticons_happy = set([\n",
    "    ':-)', ':)', ';)', ':o)', ':]', ':3', ':c)', ':>', '=]', '8)', '=)', ':}',\n",
    "    ':^)', ':-D', ':D', ':d', '8-D', '8D', 'x-D', 'xD', 'X-D', 'XD', '=-D', '=D',\n",
    "    '=-3', '=3', ':-))', \":'-)\", \":')\", ':*', ':^*', '>:P', ':-P', ':P', 'X-P',\n",
    "    'x-p', 'xp', 'XP', ':-p', ':p', '=p', ':-b', ':b', '>:)', '>;)', '>:-)',\n",
    "    '<3'\n",
    "    ])\n",
    " \n",
    "    # Sad Emoticons\n",
    "    emoticons_sad = set([\n",
    "    ':L', ':-/', '>:/', ':S', '>:[', ':@', ':-(', ':[', ':-||', '=L', ':<',\n",
    "    ':-[', ':-<', '=\\\\', '=/', '>:(', ':(', '>.<', \":'-(\", \":'(\", ':\\\\', ':-c',\n",
    "    ':c', ':{', '>:\\\\', ';('\n",
    "    ])\n",
    " \n",
    "    # All emoticons (happy + sad)\n",
    "    emoticons = emoticons_happy.union(emoticons_sad)\n",
    "    \n",
    "    text = ' '.join([word for word in text.split() if word not in emoticons])\n",
    "    # Remove Username\n",
    "    text = re.sub(r'@[\\w]*', ' ', text)\n",
    "    # Remove Punctuation\n",
    "    text = re.sub(r'\\w+:\\/{2}[\\d\\w-]+(\\.[\\d\\w-]+)*(?:(?:\\/[^\\s/]*))*', ' ', text)\n",
    "    # Remove Link\n",
    "    text = re.sub(r'^https?:\\/\\/.*[\\r\\n]*', ' ', text)\n",
    "    # Remove RT\n",
    "    text = re.sub(r'^RT[\\s]+', ' ', text)  \n",
    "    # Lower case\n",
    "    text = text.lower()  \n",
    "    # Remove \n",
    "    text = re.sub(r'[^\\w\\s]+', ' ', text)\n",
    "    # Remove Number\n",
    "    text = re.sub(r'[0-9]+', ' ', text)\n",
    "    # Remove -\n",
    "    text = re.sub(r'_', ' ', text)\n",
    "    # Remove \n",
    "    text = re.sub(r'\\$\\w*', ' ', text)\n",
    "    \n",
    "    return text\n",
    "\n",
    "stopwords_indonesia = stopwords.words('indonesian')\n",
    "stp = stopwords.words('indonesian')\n",
    "factory = StemmerFactory()\n",
    "stemmer = factory.create_stemmer()\n",
    "\n",
    "def remove_stopwords(text):\n",
    "    text = ' '.join([word for word in text.split() if word not in stp])\n",
    "    return text\n",
    "\n",
    "\n",
    "def stem_text(text):\n",
    "    text = ' '.join([stemmer.stem(word) for word in text.split()])\n",
    "    return text"
   ]
  },
  {
   "cell_type": "code",
   "execution_count": null,
   "metadata": {},
   "outputs": [],
   "source": [
    "# Optional # Optional # Optional # Optional # Optional # Optional # Optional # Optional # Optional # Optional # Optional # Optional # Optional \n",
    "tweets_df['remove_punctuation'] = tweets_df['Text'].map(lambda x: remove_punctuation(x))\n",
    "tweets_df"
   ]
  },
  {
   "cell_type": "code",
   "execution_count": null,
   "metadata": {},
   "outputs": [],
   "source": [
    "# Optional # Optional # Optional # Optional # Optional # Optional # Optional # Optional # Optional # Optional # Optional # Optional # Optional \n",
    "tweets_df['remove_stopwords'] = tweets_df['remove_punctuation'].map(lambda x: remove_stopwords(remove_punctuation(x)))\n",
    "tweets_df"
   ]
  },
  {
   "cell_type": "code",
   "execution_count": null,
   "metadata": {},
   "outputs": [],
   "source": [
    "# For all step cleansing \n",
    "tweets_df['Text_bersih'] = tweets_df['Text'].map(lambda x: stem_text(remove_stopwords(remove_punctuation(x))))"
   ]
  },
  {
   "cell_type": "code",
   "execution_count": null,
   "metadata": {},
   "outputs": [],
   "source": [
    "# Drop Column\n",
    "tweets_df.drop(['Text'], axis=1, inplace=True)\n"
   ]
  },
  {
   "cell_type": "code",
   "execution_count": null,
   "metadata": {},
   "outputs": [],
   "source": [
    "# Drop Duplicate\n",
    "tweets_df.drop_duplicates(subset =\"Text_bersih\", keep = 'first', inplace = True)\n",
    "tweets_df"
   ]
  },
  {
   "cell_type": "code",
   "execution_count": null,
   "metadata": {},
   "outputs": [],
   "source": [
    "# Open data file .csv\n",
    "tweets_df = pd.read_csv('/Dataset/bersih.csv', encoding='latin-1')"
   ]
  },
  {
   "cell_type": "code",
   "execution_count": null,
   "metadata": {},
   "outputs": [],
   "source": [
    "# Check value counts of Labels\n",
    "tweets_df['Labels'].value_counts()"
   ]
  },
  {
   "cell_type": "code",
   "execution_count": null,
   "metadata": {},
   "outputs": [],
   "source": [
    "# Change labels positif to 0 and label negatif to 1\n",
    "tweets_df['Labels'] = tweets_df['Labels'].map({'positif': 0, 'negatif': 1})\n",
    "X = tweets_df['Text_bersih']\n",
    "y = tweets_df['Labels']"
   ]
  },
  {
   "cell_type": "code",
   "execution_count": null,
   "metadata": {},
   "outputs": [],
   "source": [
    "# Optional # Optional # Optional # Optional # Optional # Optional # Optional # Optional # Optional # Optional # Optional # Optional # Optional \n",
    "# For limit data sampel SKENARIO 1\n",
    "s_1 = tweets_df[tweets_df['Labels']==1].sample(400,replace=True)\n",
    "s_2 = tweets_df[tweets_df['Labels']==0].sample(400,replace=True)\n",
    "tweets_df = pd.concat([s_1, s_2])\n",
    "# Check value counts of Labels\n",
    "tweets_df['Labels'].value_counts()"
   ]
  },
  {
   "cell_type": "code",
   "execution_count": null,
   "metadata": {},
   "outputs": [],
   "source": [
    "# Optional # Optional # Optional # Optional # Optional # Optional # Optional # Optional # Optional # Optional # Optional # Optional # Optional \n",
    "# Polarity == 0 negative\n",
    "train_s0 = tweets_df[tweets_df[\"Labels\"] == 1]\n",
    "all_text_s0 = ' '.join(word for word in train_s0[\"Text_bersih\"])\n",
    "wordcloud = WordCloud(colormap='Reds', width=1000, height=1000, mode='RGBA', background_color='white').generate(all_text_s0)\n",
    "plt.figure(figsize=(20,10))\n",
    "plt.imshow(wordcloud, interpolation='bilinear')\n",
    "plt.axis(\"off\")\n",
    "plt.margins(x=0, y=0)\n",
    "plt.show()\n",
    "\n",
    "# Polarity == 1 positive\n",
    "train_s1 = tweets_df[tweets_df[\"Labels\"] == 0]\n",
    "all_text_s1 = ' '.join(word for word in train_s1[\"Text_bersih\"])\n",
    "wordcloud = WordCloud(width=1000, height=1000, colormap='Blues', background_color='white', mode='RGBA').generate(all_text_s1)\n",
    "plt.figure( figsize=(20,10))\n",
    "plt.imshow(wordcloud, interpolation='bilinear')\n",
    "plt.axis(\"off\")\n",
    "plt.margins(x=0, y=0)\n",
    "plt.show()\n",
    "\n",
    "wf=wordcloud.words_"
   ]
  },
  {
   "cell_type": "code",
   "execution_count": null,
   "metadata": {},
   "outputs": [],
   "source": [
    "# Split data testing and training test_size testing 0.1(10%) of dataset \n",
    "X_train, X_test, y_train, y_test = train_test_split(X, y, test_size=0.1, random_state=13)"
   ]
  },
  {
   "cell_type": "code",
   "execution_count": null,
   "metadata": {},
   "outputs": [],
   "source": [
    "# Process TF-IDF\n",
    "vectorizer = TfidfVectorizer()\n",
    "\n",
    "X_train = vectorizer.fit_transform(X_train)\n",
    "X_test = vectorizer.transform(X_test)"
   ]
  },
  {
   "cell_type": "code",
   "execution_count": null,
   "metadata": {},
   "outputs": [],
   "source": [
    "# Optional # Optional # Optional # Optional # Optional # Optional # Optional # Optional # Optional # Optional # Optional # Optional # Optional\n",
    "print(X_train)\n",
    "print(X_test)"
   ]
  },
  {
   "cell_type": "code",
   "execution_count": null,
   "metadata": {},
   "outputs": [],
   "source": [
    "# Preprocessing and vectorizer for testing models\n",
    "def preprocess_data(data):\n",
    "    \n",
    "    data = remove_punctuation(data)\n",
    "    \n",
    "    data = remove_stopwords(data)\n",
    "    \n",
    "    data = stem_text(data)\n",
    "\n",
    "    data = vectorizer.transform([data])\n",
    "    \n",
    "    return data"
   ]
  },
  {
   "cell_type": "code",
   "execution_count": null,
   "metadata": {},
   "outputs": [],
   "source": [
    "# Process of making models Klasifikasi SVM LINEAR\n",
    "linear = SVC(kernel=\"linear\", gamma=1, C=1)\n",
    "linear.fit(X_train,y_train)\n",
    "linear1 = linear.predict(X_test)"
   ]
  },
  {
   "cell_type": "code",
   "execution_count": null,
   "metadata": {},
   "outputs": [],
   "source": [
    "# Process of making models Klasifikasi SVM RBF\n",
    "rbf = SVC(kernel=\"rbf\", gamma=1, C=1)\n",
    "\n",
    "rbf.fit(X_train,y_train)\n",
    "rbf1 = rbf.predict(X_test)"
   ]
  },
  {
   "cell_type": "code",
   "execution_count": null,
   "metadata": {},
   "outputs": [],
   "source": [
    "# F1_score\n",
    "print(\"F1 score hasil prediksi adalah : \", f1_score(y_test, linear1))\n",
    "# Accuracy score\n",
    "print(\"Accuracy score hasil prediksi adalah : \", accuracy_score(y_test, linear1))\n",
    "# Precision score\n",
    "print(\"Precision score hasil prediksi adalah : \", precision_score(y_test, linear1))\n",
    "# Recall score\n",
    "print(\"Recall score hasil prediksi adalah : \", recall_score(y_test, linear1))\n",
    "print('\\n')\n",
    "# F1_score\n",
    "print(\"F1 score hasil prediksi adalah : \", f1_score(y_test, rbf1))\n",
    "# Accuracy score\n",
    "print(\"Accuracy score hasil prediksi adalah : \", accuracy_score(y_test, rbf1))\n",
    "# Precision score\n",
    "print(\"Precision score hasil prediksi adalah : \", precision_score(y_test, rbf1))\n",
    "# Recall score\n",
    "print(\"Recall score hasil prediksi adalah : \", recall_score(y_test, rbf1))"
   ]
  },
  {
   "cell_type": "code",
   "execution_count": null,
   "metadata": {},
   "outputs": [],
   "source": [
    "# Confusion matrix\n",
    "tn, fp, fn, tp = confusion_matrix(y_test, linear1).ravel()\n",
    "print(\"True Positive : \", tp)\n",
    "# Accuracy score\n",
    "print(\"True Negative : \", tn)\n",
    "# Precision score\n",
    "print(\"False Positive : \", fp)\n",
    "# Recall score\n",
    "print(\"False Negative  : \", fn)\n",
    "print('\\n')\n",
    "# Confusion matrix\n",
    "tn, fp, fn, tp = confusion_matrix(y_test, rbf1).ravel()\n",
    "print(\"True Positive : \", tp)\n",
    "# Accuracy score\n",
    "print(\"True Negative : \", tn)\n",
    "# Precision score\n",
    "print(\"False Positive : \", fp)\n",
    "# Recall score\n",
    "print(\"False Negative  : \", fn)"
   ]
  },
  {
   "cell_type": "code",
   "execution_count": null,
   "metadata": {},
   "outputs": [],
   "source": [
    "# Create the visualizer and draw the vectors\n",
    "tsne = TSNEVisualizer()\n",
    "tsne.fit(X_train, y_train)\n",
    "tsne.show()"
   ]
  },
  {
   "cell_type": "code",
   "execution_count": null,
   "metadata": {},
   "outputs": [],
   "source": [
    "#Validation curve\n",
    "param_range = np.logspace(-3, 2, 20)\n",
    "train_scores, test_scores = validation_curve(SVC(kernel=\"linear\", gamma=1, C=1), X_train, y_train, param_name='gamma', param_range=param_range, scoring=\"accuracy\", n_jobs=-1)\n",
    "train_scores_mean = np.mean(train_scores, axis=1)\n",
    "train_scores_std = np.std(train_scores, axis=1)\n",
    "test_scores_mean = np.mean(test_scores, axis=1)\n",
    "test_scores_std = np.std(test_scores, axis=1)\n",
    "\n",
    "plt.title(\"Validation Curve with SVM Kernel Linear\")\n",
    "plt.xlabel(r\"$\\gamma$ (gamma)\")\n",
    "plt.ylabel(\"Score\")\n",
    "plt.ylim(0.0, 1.1)\n",
    "lw = 2\n",
    "plt.semilogx(param_range, train_scores_mean, label=\"Training score\",\n",
    "             color=\"darkorange\", lw=lw)\n",
    "plt.fill_between(param_range, train_scores_mean - train_scores_std,\n",
    "                 train_scores_mean + train_scores_std, alpha=0.2,\n",
    "                 color=\"darkorange\", lw=lw)\n",
    "plt.semilogx(param_range, test_scores_mean, label=\"Cross-validation score\",\n",
    "             color=\"navy\", lw=lw)\n",
    "plt.fill_between(param_range, test_scores_mean - test_scores_std,\n",
    "                 test_scores_mean + test_scores_std, alpha=0.2,\n",
    "                 color=\"navy\", lw=lw)\n",
    "#fig2=plt.fill_between(param_range, test_scores_mean - test_scores_std, test_scores_mean + test_scores_std, alpha=0.2, color='navy', lw=lw)\n",
    "#fig2.figure.savefig('fig2.png', bbox_inches='tight')\n",
    "plt.legend(loc=\"best\")\n",
    "plt.show()"
   ]
  },
  {
   "cell_type": "code",
   "execution_count": null,
   "metadata": {},
   "outputs": [],
   "source": [
    "#Validation curve\n",
    "param_range = np.logspace(-3, 2, 20)\n",
    "train_scores, test_scores = validation_curve(SVC(kernel=\"rbf\", gamma=1, C=1), X_train, y_train, param_name='gamma', param_range=param_range, scoring=\"accuracy\", n_jobs=1)\n",
    "train_scores_mean = np.mean(train_scores, axis=1)\n",
    "train_scores_std = np.std(train_scores, axis=1)\n",
    "test_scores_mean = np.mean(test_scores, axis=1)\n",
    "test_scores_std = np.std(test_scores, axis=1)\n",
    "\n",
    "plt.title(\"Validation Curve with SVM Kernel RBF\")\n",
    "plt.xlabel(r\"$\\gamma$ (gamma)\")\n",
    "plt.ylabel(\"Score\")\n",
    "plt.ylim(0.0, 1.1)\n",
    "lw = 2\n",
    "plt.semilogx(param_range, train_scores_mean, label=\"Training score\",\n",
    "             color=\"darkorange\", lw=lw)\n",
    "plt.fill_between(param_range, train_scores_mean - train_scores_std,\n",
    "                 train_scores_mean + train_scores_std, alpha=0.2,\n",
    "                 color=\"darkorange\", lw=lw)\n",
    "plt.semilogx(param_range, test_scores_mean, label=\"Cross-validation score\",\n",
    "             color=\"navy\", lw=lw)\n",
    "plt.fill_between(param_range, test_scores_mean - test_scores_std,\n",
    "                 test_scores_mean + test_scores_std, alpha=0.2,\n",
    "                 color=\"navy\", lw=lw)\n",
    "#fig2=plt.fill_between(param_range, test_scores_mean - test_scores_std, test_scores_mean + test_scores_std, alpha=0.2, color='navy', lw=lw)\n",
    "#fig2.figure.savefig('fig2.png', bbox_inches='tight')\n",
    "plt.legend(loc=\"best\")\n",
    "plt.show()"
   ]
  },
  {
   "cell_type": "code",
   "execution_count": null,
   "metadata": {},
   "outputs": [],
   "source": [
    "#Learning Curve\n",
    "# Create CV training and test scores for various training set sizes\n",
    "train_sizes, train_scores, test_scores = learning_curve(SVC(kernel=\"linear\", gamma=1, C=1), X_train, y_train, cv=20, scoring='accuracy', n_jobs=-1, train_sizes=np.linspace(0.01, 1.0, 50))\n",
    "\n",
    "# Create means and standard deviations of training set scores\n",
    "train_mean = np.mean(train_scores, axis=1)\n",
    "train_std = np.std(train_scores, axis=1)\n",
    "\n",
    "# Create means and standard deviations of test set scores\n",
    "test_mean = np.mean(test_scores, axis=1)\n",
    "test_std = np.std(test_scores, axis=1)\n",
    "\n",
    "# Draw lines\n",
    "plt.plot(train_sizes, train_mean, '--', color=\"#111111\",  label=\"Training score\")\n",
    "plt.plot(train_sizes, test_mean, color=\"#111111\", label=\"Cross-validation score\")\n",
    "\n",
    "# Draw bands\n",
    "plt.fill_between(train_sizes, train_mean - train_std, train_mean + train_std, color=\"#DDDDDD\")\n",
    "plt.fill_between(train_sizes, test_mean - test_std, test_mean + test_std, color=\"#DDDDDD\")\n",
    "\n",
    "# Create plot\n",
    "plt.title(\"Learning Curve SVM Kernel Linear\")\n",
    "plt.xlabel(\"Training Set Size\"), plt.ylabel(\"Accuracy Score\"), plt.legend(loc=\"best\")\n",
    "plt.tight_layout()\n",
    "plt.show()"
   ]
  },
  {
   "cell_type": "code",
   "execution_count": null,
   "metadata": {},
   "outputs": [],
   "source": [
    "#Learning Curve\n",
    "# Create CV training and test scores for various training set sizes\n",
    "train_sizes, train_scores, test_scores = learning_curve(SVC(kernel=\"rbf\", gamma=1, C=1), X_train, y_train, cv=20, scoring='accuracy', n_jobs=-1, train_sizes=np.linspace(0.01, 1.0, 50))\n",
    "\n",
    "# Create means and standard deviations of training set scores\n",
    "train_mean = np.mean(train_scores, axis=1)\n",
    "train_std = np.std(train_scores, axis=1)\n",
    "\n",
    "# Create means and standard deviations of test set scores\n",
    "test_mean = np.mean(test_scores, axis=1)\n",
    "test_std = np.std(test_scores, axis=1)\n",
    "\n",
    "# Draw lines\n",
    "plt.plot(train_sizes, train_mean, '--', color=\"#111111\",  label=\"Training score\")\n",
    "plt.plot(train_sizes, test_mean, color=\"#111111\", label=\"Cross-validation score\")\n",
    "\n",
    "# Draw bands\n",
    "plt.fill_between(train_sizes, train_mean - train_std, train_mean + train_std, color=\"#DDDDDD\")\n",
    "plt.fill_between(train_sizes, test_mean - test_std, test_mean + test_std, color=\"#DDDDDD\")\n",
    "\n",
    "# Create plot\n",
    "plt.title(\"Learning Curve SVM Kernel RBF\")\n",
    "plt.xlabel(\"Training Set Size\"), plt.ylabel(\"Accuracy Score\"), plt.legend(loc=\"best\")\n",
    "plt.tight_layout()\n",
    "plt.show()"
   ]
  },
  {
   "cell_type": "code",
   "execution_count": null,
   "metadata": {},
   "outputs": [],
   "source": [
    "# Example Term\n",
    "review_positif = \"ganti biznet aja dari pada indihomo\"\n",
    "review_negatif = \"biznet masalah mulu\""
   ]
  },
  {
   "cell_type": "code",
   "execution_count": null,
   "metadata": {},
   "outputs": [],
   "source": [
    "# Check prediction of term [0] for positif [1] for negatif\n",
    "linear.predict(preprocess_data(review_positif))"
   ]
  },
  {
   "cell_type": "code",
   "execution_count": null,
   "metadata": {},
   "outputs": [],
   "source": [
    "# Check prediction of term [0] for positif [1] for negatif\n",
    "linear.predict(preprocess_data(review_negatif))"
   ]
  },
  {
   "cell_type": "code",
   "execution_count": null,
   "metadata": {},
   "outputs": [],
   "source": []
  }
 ],
 "metadata": {
  "kernelspec": {
   "display_name": "Python 3",
   "language": "python",
   "name": "python3"
  },
  "language_info": {
   "codemirror_mode": {
    "name": "ipython",
    "version": 3
   },
   "file_extension": ".py",
   "mimetype": "text/x-python",
   "name": "python",
   "nbconvert_exporter": "python",
   "pygments_lexer": "ipython3",
   "version": "3.8.3"
  }
 },
 "nbformat": 4,
 "nbformat_minor": 4
}
