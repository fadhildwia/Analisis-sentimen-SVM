{
 "cells": [
  {
   "cell_type": "code",
   "execution_count": null,
   "metadata": {
    "colab": {},
    "colab_type": "code",
    "id": "Jdu6O8UWqGWm"
   },
   "outputs": [],
   "source": [
    "import pandas as pd\n",
    "# tarik data csv\n",
    "df_review = pd.read_csv(\"/content/review.csv\")"
   ]
  },
  {
   "cell_type": "code",
   "execution_count": null,
   "metadata": {
    "colab": {},
    "colab_type": "code",
    "id": "lZ1h7wVbwDVl"
   },
   "outputs": [],
   "source": [
    "# urutan dari terbawah\n",
    "df_review.tail()"
   ]
  },
  {
   "cell_type": "code",
   "execution_count": null,
   "metadata": {
    "colab": {},
    "colab_type": "code",
    "id": "4uVEj4yZxtCv"
   },
   "outputs": [],
   "source": [
    "# menampilkan jumlah review dari kolom Star\n",
    "df_review[\"Star\"].value_counts()"
   ]
  },
  {
   "cell_type": "code",
   "execution_count": null,
   "metadata": {
    "colab": {},
    "colab_type": "code",
    "id": "iBBDaM9Ux3q5"
   },
   "outputs": [],
   "source": [
    "# melabelkan untuk Star 5 label 1, selain 5 label 0\n",
    "label = []\n",
    "for index, row in df_review.iterrows():\n",
    "    if row[\"Star\"] == 5:\n",
    "        label.append(1)\n",
    "    else:\n",
    "        label.append(0)\n",
    "\n",
    "# menambahkan kolom label dan drop kolom Star, menampilkan review berdasarkan terbawah\n",
    "df_review[\"label\"] = label\n",
    "df_review = df_review.drop(columns=['Star'])\n",
    "df_review.tail()\n"
   ]
  },
  {
   "cell_type": "code",
   "execution_count": null,
   "metadata": {
    "colab": {},
    "colab_type": "code",
    "id": "p_K_V0Hpyo0X"
   },
   "outputs": [],
   "source": [
    "# menampilkan jumlah review dari kolom label\n",
    "df_review['label'].value_counts()"
   ]
  },
  {
   "cell_type": "code",
   "execution_count": null,
   "metadata": {
    "colab": {},
    "colab_type": "code",
    "id": "TIHfi0QqywkL"
   },
   "outputs": [],
   "source": [
    "# copy data df_review, menghapus kolom Date dan Name, menampilkan berdasarkan 5 data teratas \n",
    "df_preprocessed = df_review.copy()\n",
    "df_preprocessed = df_preprocessed.drop(columns=['Date', 'Name'])\n",
    "df_preprocessed.head()"
   ]
  },
  {
   "cell_type": "code",
   "execution_count": 1,
   "metadata": {
    "colab": {},
    "colab_type": "code",
    "collapsed": true,
    "id": "k2Q6ZAsXy4_N",
    "jupyter": {
     "outputs_hidden": true
    }
   },
   "outputs": [
    {
     "ename": "NameError",
     "evalue": "name 'df_preprocessed' is not defined",
     "output_type": "error",
     "traceback": [
      "\u001b[1;31m---------------------------------------------------------------------------\u001b[0m",
      "\u001b[1;31mNameError\u001b[0m                                 Traceback (most recent call last)",
      "\u001b[1;32m<ipython-input-1-ed7273ae737c>\u001b[0m in \u001b[0;36m<module>\u001b[1;34m\u001b[0m\n\u001b[0;32m      1\u001b[0m \u001b[1;31m# menyamakan data label 1 dan 0 menjadi 25000 sample\u001b[0m\u001b[1;33m\u001b[0m\u001b[1;33m\u001b[0m\u001b[1;33m\u001b[0m\u001b[0m\n\u001b[1;32m----> 2\u001b[1;33m \u001b[0ms_1\u001b[0m \u001b[1;33m=\u001b[0m \u001b[0mdf_preprocessed\u001b[0m\u001b[1;33m[\u001b[0m\u001b[0mdf_preprocessed\u001b[0m\u001b[1;33m[\u001b[0m\u001b[1;34m'label'\u001b[0m\u001b[1;33m]\u001b[0m\u001b[1;33m==\u001b[0m\u001b[1;36m0\u001b[0m\u001b[1;33m]\u001b[0m\u001b[1;33m.\u001b[0m\u001b[0msample\u001b[0m\u001b[1;33m(\u001b[0m\u001b[1;36m25000\u001b[0m\u001b[1;33m,\u001b[0m\u001b[0mreplace\u001b[0m\u001b[1;33m=\u001b[0m\u001b[1;32mTrue\u001b[0m\u001b[1;33m)\u001b[0m\u001b[1;33m\u001b[0m\u001b[1;33m\u001b[0m\u001b[0m\n\u001b[0m\u001b[0;32m      3\u001b[0m \u001b[0ms_2\u001b[0m \u001b[1;33m=\u001b[0m \u001b[0mdf_preprocessed\u001b[0m\u001b[1;33m[\u001b[0m\u001b[0mdf_preprocessed\u001b[0m\u001b[1;33m[\u001b[0m\u001b[1;34m'label'\u001b[0m\u001b[1;33m]\u001b[0m\u001b[1;33m==\u001b[0m\u001b[1;36m1\u001b[0m\u001b[1;33m]\u001b[0m\u001b[1;33m.\u001b[0m\u001b[0msample\u001b[0m\u001b[1;33m(\u001b[0m\u001b[1;36m25000\u001b[0m\u001b[1;33m,\u001b[0m\u001b[0mreplace\u001b[0m\u001b[1;33m=\u001b[0m\u001b[1;32mTrue\u001b[0m\u001b[1;33m)\u001b[0m\u001b[1;33m\u001b[0m\u001b[1;33m\u001b[0m\u001b[0m\n\u001b[0;32m      4\u001b[0m \u001b[0mdf_preprocessed\u001b[0m \u001b[1;33m=\u001b[0m \u001b[0mpd\u001b[0m\u001b[1;33m.\u001b[0m\u001b[0mconcat\u001b[0m\u001b[1;33m(\u001b[0m\u001b[1;33m[\u001b[0m\u001b[0ms_1\u001b[0m\u001b[1;33m,\u001b[0m \u001b[0ms_2\u001b[0m\u001b[1;33m]\u001b[0m\u001b[1;33m)\u001b[0m\u001b[1;33m\u001b[0m\u001b[1;33m\u001b[0m\u001b[0m\n\u001b[0;32m      5\u001b[0m \u001b[1;33m\u001b[0m\u001b[0m\n",
      "\u001b[1;31mNameError\u001b[0m: name 'df_preprocessed' is not defined"
     ]
    }
   ],
   "source": [
    "# menyamakan data label 1 dan 0 menjadi 25000 sample\n",
    "s_1 = df_preprocessed[df_preprocessed['label']==0].sample(25000,replace=True)\n",
    "s_2 = df_preprocessed[df_preprocessed['label']==1].sample(25000,replace=True)\n",
    "df_preprocessed = pd.concat([s_1, s_2])\n",
    "\n",
    "# menampilkan total data dan total colom, menampilkan perbandingan dari kolom label\n",
    "print(df_preprocessed.shape)\n",
    "print(df_preprocessed['label'].value_counts(normalize=True))"
   ]
  },
  {
   "cell_type": "code",
   "execution_count": null,
   "metadata": {
    "colab": {},
    "colab_type": "code",
    "id": "dA6BMns3y-Qy"
   },
   "outputs": [],
   "source": [
    "# untuk melihat data yang positif dan negatif tanpa klasifikasi\n",
    "from wordcloud import WordCloud\n",
    "import matplotlib.pyplot as plt\n",
    "\n",
    "\n",
    "# Polarity == 0 negative\n",
    "train_s0 = df_preprocessed[df_preprocessed[\"label\"] == 0]\n",
    "all_text_s0 = ' '.join(word for word in train_s0[\"Comment\"])\n",
    "wordcloud = WordCloud(colormap='Reds', width=1000, height=1000, mode='RGBA', background_color='white').generate(all_text_s0)\n",
    "plt.figure(figsize=(20,10))\n",
    "plt.imshow(wordcloud, interpolation='bilinear')\n",
    "plt.axis(\"off\")\n",
    "plt.margins(x=0, y=0)\n",
    "plt.show()\n",
    "\n",
    "# Polarity == 1 positive\n",
    "train_s1 = df_preprocessed[df_preprocessed[\"label\"] == 1]\n",
    "all_text_s1 = ' '.join(word for word in train_s1[\"Comment\"])\n",
    "wordcloud = WordCloud(width=1000, height=1000, colormap='Blues', background_color='white', mode='RGBA').generate(all_text_s1)\n",
    "plt.figure( figsize=(20,10))\n",
    "plt.imshow(wordcloud, interpolation='bilinear')\n",
    "plt.axis(\"off\")\n",
    "plt.margins(x=0, y=0)\n",
    "plt.show()"
   ]
  },
  {
   "cell_type": "code",
   "execution_count": null,
   "metadata": {
    "colab": {},
    "colab_type": "code",
    "id": "jcPIPR5Q-Kda"
   },
   "outputs": [],
   "source": [
    "wf=wordcloud.words_"
   ]
  },
  {
   "cell_type": "code",
   "execution_count": null,
   "metadata": {
    "colab": {},
    "colab_type": "code",
    "id": "H51Lbgx3zQHq"
   },
   "outputs": [],
   "source": [
    "# cleansing\n",
    "import string, re\n",
    "\n",
    "def cleansing(data):\n",
    "    # lower text\n",
    "    data = data.lower()\n",
    "    \n",
    "    # hapus punctuation\n",
    "    remove = string.punctuation\n",
    "    translator = str.maketrans(remove, ' '*len(remove))\n",
    "    data = data.translate(translator)\n",
    "    \n",
    "    # remove ASCII dan unicode\n",
    "    data = data.encode('ascii', 'ignore').decode('utf-8')\n",
    "    data = re.sub(r'[^\\x00-\\x7f]',r'', data)\n",
    "    \n",
    "    # remove newline\n",
    "    data = data.replace('\\n', ' ')\n",
    "    \n",
    "    return data"
   ]
  },
  {
   "cell_type": "code",
   "execution_count": null,
   "metadata": {
    "colab": {},
    "colab_type": "code",
    "id": "kJzhCHq3zVc6"
   },
   "outputs": [],
   "source": [
    "# jalankan cleansing data\n",
    "review = []\n",
    "for index, row in df_preprocessed.iterrows():\n",
    "    review.append(cleansing(row[\"Comment\"]))\n",
    "    \n",
    "df_preprocessed[\"Comment\"] = review\n",
    "df_preprocessed.head()"
   ]
  },
  {
   "cell_type": "code",
   "execution_count": null,
   "metadata": {
    "colab": {},
    "colab_type": "code",
    "id": "_5-YP75uztVb"
   },
   "outputs": [],
   "source": [
    "!pip install Sastrawi"
   ]
  },
  {
   "cell_type": "code",
   "execution_count": 1,
   "metadata": {
    "colab": {},
    "colab_type": "code",
    "collapsed": true,
    "id": "nQdTUD6Fzt7t",
    "jupyter": {
     "outputs_hidden": true
    }
   },
   "outputs": [
    {
     "name": "stdout",
     "output_type": "stream",
     "text": [
      "Dengan Menggunakan Python Library Sastrawi dapat melakukan proses Stopword Removal\n"
     ]
    }
   ],
   "source": [
    "# import library sastrawi untuk stopword remover\n",
    "from Sastrawi.StopWordRemover.StopWordRemoverFactory import StopWordRemoverFactory\n",
    " \n",
    "factory = StopWordRemoverFactory()\n",
    "stopword = factory.create_stop_word_remover()\n",
    " \n",
    "# Contoh kalimat\n",
    "kalimat = 'Dengan Menggunakan Python dan Library Sastrawi saya dapat melakukan proses Stopword Removal'\n",
    "stop = stopword.remove(kalimat)\n",
    "print(stop)"
   ]
  },
  {
   "cell_type": "code",
   "execution_count": null,
   "metadata": {
    "colab": {},
    "colab_type": "code",
    "id": "NTT5lXCXz0dZ"
   },
   "outputs": [],
   "source": [
    "# lakukan stopword pada data kita\n",
    "\n",
    "review = []\n",
    "for index, row in df_preprocessed.iterrows():\n",
    "    review.append(stopword.remove(row[\"Comment\"]))\n",
    "    \n",
    "df_preprocessed[\"Comment\"] = review\n",
    "df_preprocessed.head()"
   ]
  },
  {
   "cell_type": "code",
   "execution_count": 1,
   "metadata": {
    "colab": {},
    "colab_type": "code",
    "id": "pqRvjqvkz-G8"
   },
   "outputs": [
    {
     "name": "stdout",
     "output_type": "stream",
     "text": [
      "liverpool adalah klub hebat tidak seperti si itu wkwkwk\n"
     ]
    }
   ],
   "source": [
    "# stemming dengan library sastrawi\n",
    "from Sastrawi.Stemmer.StemmerFactory import StemmerFactory\n",
    "factory = StemmerFactory()\n",
    "stemmer = factory.create_stemmer()\n",
    "\n",
    "# contoh kalimat\n",
    "kalimat = 'Liverpool adalah klub hebat tidak seperti si itu WkwkWK'\n",
    "katadasar = stemmer.stem(kalimat)\n",
    " \n",
    "print(katadasar)"
   ]
  },
  {
   "cell_type": "code",
   "execution_count": null,
   "metadata": {
    "colab": {},
    "colab_type": "code",
    "id": "WFQmwS7M0MlP"
   },
   "outputs": [],
   "source": [
    "# implementasi stemming pada data kita\n",
    "review = []\n",
    "for index, row in df_preprocessed.iterrows():\n",
    "    review.append(stemmer.stem(row[\"Comment\"]))\n",
    "    \n",
    "df_preprocessed[\"Comment\"] = review\n",
    "df_preprocessed.head()"
   ]
  },
  {
   "cell_type": "code",
   "execution_count": null,
   "metadata": {
    "colab": {},
    "colab_type": "code",
    "id": "0HKj6bsN0bvr"
   },
   "outputs": [],
   "source": [
    "# membagi data train dan data test\n",
    "from sklearn.model_selection import train_test_split\n",
    "\n",
    "# membagi data test size dengan ukuran 0.1\n",
    "X_train, X_test, y_train, y_test = train_test_split(df_preprocessed['Comment'], df_preprocessed['label'], \n",
    "                                                    test_size=0.1, stratify=df_preprocessed['label'], random_state=30)"
   ]
  },
  {
   "cell_type": "code",
   "execution_count": 5,
   "metadata": {
    "colab": {},
    "colab_type": "code",
    "id": "4eesOyYR0sFk"
   },
   "outputs": [
    {
     "data": {
      "text/plain": [
       "array([[0.        , 0.49248889, 0.        , 0.40264194, 0.77157901,\n",
       "        0.        ],\n",
       "       [0.77157901, 0.49248889, 0.        , 0.40264194, 0.        ,\n",
       "        0.        ],\n",
       "       [0.        , 0.49248889, 0.        , 0.40264194, 0.        ,\n",
       "        0.77157901],\n",
       "       [0.        , 0.        , 0.88654763, 0.46263733, 0.        ,\n",
       "        0.        ]])"
      ]
     },
     "execution_count": 5,
     "metadata": {},
     "output_type": "execute_result"
    }
   ],
   "source": [
    "# metode TF IDF\n",
    "from sklearn.feature_extraction.text import TfidfVectorizer\n",
    "\n",
    "corpus = [\n",
    "    'Pusing satu kali',\n",
    "    'Pusing dua kali',\n",
    "    'Pusing tiga kali',\n",
    "    'Pusing lagi']\n",
    "\n",
    "vectorizer = TfidfVectorizer()\n",
    "\n",
    "# contoh kalimat\n",
    "X = vectorizer.fit_transform(corpus)\n",
    "X.toarray()"
   ]
  },
  {
   "cell_type": "code",
   "execution_count": null,
   "metadata": {
    "colab": {},
    "colab_type": "code",
    "id": "pvgTDVoy3jEP"
   },
   "outputs": [],
   "source": [
    "# implementasi TF IDF pada dokumen kita\n",
    "X_train = vectorizer.fit_transform(X_train)\n",
    "X_test = vectorizer.transform(X_test)\n",
    "\n",
    "print(X_train.shape)\n",
    "print(X_test.shape)"
   ]
  },
  {
   "cell_type": "code",
   "execution_count": null,
   "metadata": {
    "colab": {},
    "colab_type": "code",
    "id": "FBPbFhX23m_a"
   },
   "outputs": [],
   "source": [
    "# menjalankan fungsi preprocessing dalam 1 kali proses dari (cleansing, stopword remove, stemming, TF IDF)\n",
    "def preprocess_data(data):\n",
    "    \n",
    "    # cleansing data\n",
    "    data = cleansing(data)\n",
    "    \n",
    "    # hapus stopwords\n",
    "    factory = StopWordRemoverFactory()\n",
    "    stopword = factory.create_stop_word_remover()\n",
    "    data = stopword.remove(data)\n",
    "    \n",
    "    # stemming\n",
    "    factory = StemmerFactory()\n",
    "    stemmer = factory.create_stemmer()\n",
    "    data = stemmer.stem(data)\n",
    "    \n",
    "    # count vectorizer\n",
    "    data = vectorizer.transform([data])\n",
    "    \n",
    "    return data"
   ]
  },
  {
   "cell_type": "code",
   "execution_count": null,
   "metadata": {
    "colab": {},
    "colab_type": "code",
    "id": "EDpBjaK433sX"
   },
   "outputs": [],
   "source": [
    "# model klasifikasi SVM\n",
    "from sklearn import svm\n",
    "from sklearn.model_selection import cross_val_score\n",
    "\n",
    "# klasifikasi svm dengan kernel linear\n",
    "clf = svm.SVC(kernel=\"linear\")\n",
    "\n",
    "#cross_val_score(clf, X_train, y_train, cv=10)"
   ]
  },
  {
   "cell_type": "code",
   "execution_count": null,
   "metadata": {
    "colab": {},
    "colab_type": "code",
    "id": "Cui3yR7C5XFk"
   },
   "outputs": [],
   "source": [
    "# lakukan prediksi SVM pada data test\n",
    "clf.fit(X_train,y_train)\n",
    "predict = clf.predict(X_test)"
   ]
  },
  {
   "cell_type": "code",
   "execution_count": null,
   "metadata": {
    "colab": {},
    "colab_type": "code",
    "id": "avRdSeY95Z5Q"
   },
   "outputs": [],
   "source": [
    "# import library evaluation \n",
    "from sklearn.metrics import f1_score, recall_score, precision_score, confusion_matrix, accuracy_score"
   ]
  },
  {
   "cell_type": "code",
   "execution_count": null,
   "metadata": {
    "colab": {},
    "colab_type": "code",
    "id": "_YxI9si15b8M"
   },
   "outputs": [],
   "source": [
    "# f1_score\n",
    "print(\"f1 score hasil prediksi adalah: \")\n",
    "print(f1_score(y_test, predict))\n",
    "\n",
    "# accuracy score\n",
    "print(\"accuracy score hasil prediksi adalah: \")\n",
    "print(accuracy_score(y_test, predict))\n",
    "\n",
    "# precision score\n",
    "print(\"precision score hasil prediksi adalah: \")\n",
    "print(precision_score(y_test, predict))\n",
    "\n",
    "# recall score\n",
    "print(\"recall score hasil prediksi adalah: \")\n",
    "print(recall_score(y_test, predict))"
   ]
  },
  {
   "cell_type": "code",
   "execution_count": null,
   "metadata": {
    "colab": {},
    "colab_type": "code",
    "id": "oYyjUGr45eDq"
   },
   "outputs": [],
   "source": [
    "# confusion matrix\n",
    "tn, fp, fn, tp = confusion_matrix(y_test, predict).ravel()\n",
    "tn, fp, fn, tp"
   ]
  },
  {
   "cell_type": "code",
   "execution_count": null,
   "metadata": {
    "colab": {},
    "colab_type": "code",
    "id": "5xs711F26JSQ"
   },
   "outputs": [],
   "source": [
    "# contoh kalimat \n",
    "review_positif = \"kualitas brand milik toko liverpool memang mantap banget pokoknya\"\n",
    "review_negatif = \"respon toko tim sebelah kok jelek banget sih\""
   ]
  },
  {
   "cell_type": "code",
   "execution_count": null,
   "metadata": {
    "colab": {},
    "colab_type": "code",
    "id": "GERu3_hQ6TlH"
   },
   "outputs": [],
   "source": [
    "# cek prediksi dari kalimat\n",
    "clf.predict(preprocess_data(review_positif))"
   ]
  },
  {
   "cell_type": "code",
   "execution_count": null,
   "metadata": {
    "colab": {},
    "colab_type": "code",
    "id": "phQu5hv06Ul3"
   },
   "outputs": [],
   "source": [
    "# cek prediksi dari kalimat\n",
    "clf.predict(preprocess_data(review_negatif))"
   ]
  },
  {
   "cell_type": "code",
   "execution_count": null,
   "metadata": {
    "colab": {},
    "colab_type": "code",
    "id": "SgQw54H8DNXi"
   },
   "outputs": [],
   "source": []
  }
 ],
 "metadata": {
  "accelerator": "TPU",
  "colab": {
   "collapsed_sections": [],
   "name": "Sentiment Twitter",
   "provenance": []
  },
  "kernelspec": {
   "display_name": "Python 3",
   "language": "python",
   "name": "python3"
  },
  "language_info": {
   "codemirror_mode": {
    "name": "ipython",
    "version": 3
   },
   "file_extension": ".py",
   "mimetype": "text/x-python",
   "name": "python",
   "nbconvert_exporter": "python",
   "pygments_lexer": "ipython3",
   "version": "3.8.3"
  }
 },
 "nbformat": 4,
 "nbformat_minor": 4
}
